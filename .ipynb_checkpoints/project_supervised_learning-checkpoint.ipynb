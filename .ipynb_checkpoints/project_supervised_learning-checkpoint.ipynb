{
 "cells": [
  {
   "cell_type": "markdown",
   "metadata": {
    "toc": true
   },
   "source": [
    "<h1>Содержание<span class=\"tocSkip\"></span></h1>\n",
    "<div class=\"toc\"><ul class=\"toc-item\"><li><span><a href=\"#Подготовка-данных\" data-toc-modified-id=\"Подготовка-данных-1\"><span class=\"toc-item-num\">1&nbsp;&nbsp;</span>Подготовка данных</a></span></li><li><span><a href=\"#Исследование-задачи\" data-toc-modified-id=\"Исследование-задачи-2\"><span class=\"toc-item-num\">2&nbsp;&nbsp;</span>Исследование задачи</a></span></li><li><span><a href=\"#Борьба-с-дисбалансом\" data-toc-modified-id=\"Борьба-с-дисбалансом-3\"><span class=\"toc-item-num\">3&nbsp;&nbsp;</span>Борьба с дисбалансом</a></span></li><li><span><a href=\"#Тестирование-модели\" data-toc-modified-id=\"Тестирование-модели-4\"><span class=\"toc-item-num\">4&nbsp;&nbsp;</span>Тестирование модели</a></span></li><li><span><a href=\"#Чек-лист-готовности-проекта\" data-toc-modified-id=\"Чек-лист-готовности-проекта-5\"><span class=\"toc-item-num\">5&nbsp;&nbsp;</span>Чек-лист готовности проекта</a></span></li></ul></div>"
   ]
  },
  {
   "cell_type": "markdown",
   "metadata": {},
   "source": [
    "# Отток клиентов"
   ]
  },
  {
   "cell_type": "markdown",
   "metadata": {},
   "source": [
    "Из «Бета-Банка» стали уходить клиенты. Каждый месяц. Немного, но заметно. Банковские маркетологи посчитали: сохранять текущих клиентов дешевле, чем привлекать новых.\n",
    "\n",
    "Нужно спрогнозировать, уйдёт клиент из банка в ближайшее время или нет. Вам предоставлены исторические данные о поведении клиентов и расторжении договоров с банком. \n",
    "\n",
    "Постройте модель с предельно большим значением *F1*-меры. Чтобы сдать проект успешно, нужно довести метрику до 0.59. Проверьте *F1*-меру на тестовой выборке самостоятельно.\n",
    "\n",
    "Дополнительно измеряйте *AUC-ROC*, сравнивайте её значение с *F1*-мерой.\n",
    "\n",
    "Источник данных: [https://www.kaggle.com/barelydedicated/bank-customer-churn-modeling](https://www.kaggle.com/barelydedicated/bank-customer-churn-modeling)"
   ]
  },
  {
   "cell_type": "markdown",
   "metadata": {},
   "source": [
    "## Подготовка данных"
   ]
  },
  {
   "cell_type": "markdown",
   "metadata": {},
   "source": [
    "Все необходимые импорты выношу в отдельную ячейку."
   ]
  },
  {
   "cell_type": "code",
   "execution_count": 276,
   "metadata": {},
   "outputs": [
    {
     "name": "stdout",
     "output_type": "stream",
     "text": [
      "Requirement already satisfied: catboost in /Users/anechakhina/opt/anaconda3/lib/python3.9/site-packages (1.1.1)\n",
      "Requirement already satisfied: numpy>=1.16.0 in /Users/anechakhina/opt/anaconda3/lib/python3.9/site-packages (from catboost) (1.21.5)\n",
      "Requirement already satisfied: pandas>=0.24.0 in /Users/anechakhina/opt/anaconda3/lib/python3.9/site-packages (from catboost) (1.4.4)\n",
      "Requirement already satisfied: plotly in /Users/anechakhina/opt/anaconda3/lib/python3.9/site-packages (from catboost) (5.9.0)\n",
      "Requirement already satisfied: graphviz in /Users/anechakhina/opt/anaconda3/lib/python3.9/site-packages (from catboost) (0.20.1)\n",
      "Requirement already satisfied: scipy in /Users/anechakhina/opt/anaconda3/lib/python3.9/site-packages (from catboost) (1.9.1)\n",
      "Requirement already satisfied: six in /Users/anechakhina/opt/anaconda3/lib/python3.9/site-packages (from catboost) (1.16.0)\n",
      "Requirement already satisfied: matplotlib in /Users/anechakhina/opt/anaconda3/lib/python3.9/site-packages (from catboost) (3.5.2)\n",
      "Requirement already satisfied: python-dateutil>=2.8.1 in /Users/anechakhina/opt/anaconda3/lib/python3.9/site-packages (from pandas>=0.24.0->catboost) (2.8.2)\n",
      "Requirement already satisfied: pytz>=2020.1 in /Users/anechakhina/opt/anaconda3/lib/python3.9/site-packages (from pandas>=0.24.0->catboost) (2022.1)\n",
      "Requirement already satisfied: pillow>=6.2.0 in /Users/anechakhina/opt/anaconda3/lib/python3.9/site-packages (from matplotlib->catboost) (9.2.0)\n",
      "Requirement already satisfied: kiwisolver>=1.0.1 in /Users/anechakhina/opt/anaconda3/lib/python3.9/site-packages (from matplotlib->catboost) (1.4.2)\n",
      "Requirement already satisfied: pyparsing>=2.2.1 in /Users/anechakhina/opt/anaconda3/lib/python3.9/site-packages (from matplotlib->catboost) (3.0.9)\n",
      "Requirement already satisfied: packaging>=20.0 in /Users/anechakhina/opt/anaconda3/lib/python3.9/site-packages (from matplotlib->catboost) (21.3)\n",
      "Requirement already satisfied: cycler>=0.10 in /Users/anechakhina/opt/anaconda3/lib/python3.9/site-packages (from matplotlib->catboost) (0.11.0)\n",
      "Requirement already satisfied: fonttools>=4.22.0 in /Users/anechakhina/opt/anaconda3/lib/python3.9/site-packages (from matplotlib->catboost) (4.25.0)\n",
      "Requirement already satisfied: tenacity>=6.2.0 in /Users/anechakhina/opt/anaconda3/lib/python3.9/site-packages (from plotly->catboost) (8.0.1)\n"
     ]
    }
   ],
   "source": [
    "import pandas as pd\n",
    "from sklearn.metrics import f1_score\n",
    "from sklearn.metrics import accuracy_score\n",
    "from sklearn.metrics import roc_auc_score\n",
    "from sklearn.metrics import roc_curve\n",
    "from sklearn.metrics import precision_recall_curve\n",
    "from sklearn.metrics import precision_score, recall_score\n",
    "from sklearn.model_selection import train_test_split\n",
    "from sklearn.linear_model import LogisticRegression\n",
    "from sklearn.ensemble import RandomForestClassifier\n",
    "from sklearn.utils import shuffle\n",
    "import numpy as np\n",
    "import matplotlib.pyplot as plt\n",
    "!pip3 install catboost\n",
    "from catboost import CatBoostClassifier\n",
    "from sklearn.preprocessing import StandardScaler\n",
    "from sklearn.model_selection import GridSearchCV\n",
    "import warnings\n",
    "warnings.filterwarnings('ignore')"
   ]
  },
  {
   "cell_type": "markdown",
   "metadata": {},
   "source": [
    "Смотрю общую информацию."
   ]
  },
  {
   "cell_type": "code",
   "execution_count": 277,
   "metadata": {},
   "outputs": [
    {
     "name": "stdout",
     "output_type": "stream",
     "text": [
      "<class 'pandas.core.frame.DataFrame'>\n",
      "RangeIndex: 10000 entries, 0 to 9999\n",
      "Data columns (total 14 columns):\n",
      " #   Column           Non-Null Count  Dtype  \n",
      "---  ------           --------------  -----  \n",
      " 0   RowNumber        10000 non-null  int64  \n",
      " 1   CustomerId       10000 non-null  int64  \n",
      " 2   Surname          10000 non-null  object \n",
      " 3   CreditScore      10000 non-null  int64  \n",
      " 4   Geography        10000 non-null  object \n",
      " 5   Gender           10000 non-null  object \n",
      " 6   Age              10000 non-null  int64  \n",
      " 7   Tenure           10000 non-null  int64  \n",
      " 8   Balance          10000 non-null  float64\n",
      " 9   NumOfProducts    10000 non-null  int64  \n",
      " 10  HasCrCard        10000 non-null  int64  \n",
      " 11  IsActiveMember   10000 non-null  int64  \n",
      " 12  EstimatedSalary  10000 non-null  float64\n",
      " 13  Exited           10000 non-null  int64  \n",
      "dtypes: float64(2), int64(9), object(3)\n",
      "memory usage: 1.1+ MB\n"
     ]
    },
    {
     "data": {
      "text/plain": [
       "None"
      ]
     },
     "metadata": {},
     "output_type": "display_data"
    },
    {
     "data": {
      "text/html": [
       "<div>\n",
       "<style scoped>\n",
       "    .dataframe tbody tr th:only-of-type {\n",
       "        vertical-align: middle;\n",
       "    }\n",
       "\n",
       "    .dataframe tbody tr th {\n",
       "        vertical-align: top;\n",
       "    }\n",
       "\n",
       "    .dataframe thead th {\n",
       "        text-align: right;\n",
       "    }\n",
       "</style>\n",
       "<table border=\"1\" class=\"dataframe\">\n",
       "  <thead>\n",
       "    <tr style=\"text-align: right;\">\n",
       "      <th></th>\n",
       "      <th>RowNumber</th>\n",
       "      <th>CustomerId</th>\n",
       "      <th>Surname</th>\n",
       "      <th>CreditScore</th>\n",
       "      <th>Geography</th>\n",
       "      <th>Gender</th>\n",
       "      <th>Age</th>\n",
       "      <th>Tenure</th>\n",
       "      <th>Balance</th>\n",
       "      <th>NumOfProducts</th>\n",
       "      <th>HasCrCard</th>\n",
       "      <th>IsActiveMember</th>\n",
       "      <th>EstimatedSalary</th>\n",
       "      <th>Exited</th>\n",
       "    </tr>\n",
       "  </thead>\n",
       "  <tbody>\n",
       "    <tr>\n",
       "      <th>0</th>\n",
       "      <td>1</td>\n",
       "      <td>15634602</td>\n",
       "      <td>Hargrave</td>\n",
       "      <td>619</td>\n",
       "      <td>France</td>\n",
       "      <td>Female</td>\n",
       "      <td>42</td>\n",
       "      <td>2</td>\n",
       "      <td>0.00</td>\n",
       "      <td>1</td>\n",
       "      <td>1</td>\n",
       "      <td>1</td>\n",
       "      <td>101348.88</td>\n",
       "      <td>1</td>\n",
       "    </tr>\n",
       "    <tr>\n",
       "      <th>1</th>\n",
       "      <td>2</td>\n",
       "      <td>15647311</td>\n",
       "      <td>Hill</td>\n",
       "      <td>608</td>\n",
       "      <td>Spain</td>\n",
       "      <td>Female</td>\n",
       "      <td>41</td>\n",
       "      <td>1</td>\n",
       "      <td>83807.86</td>\n",
       "      <td>1</td>\n",
       "      <td>0</td>\n",
       "      <td>1</td>\n",
       "      <td>112542.58</td>\n",
       "      <td>0</td>\n",
       "    </tr>\n",
       "    <tr>\n",
       "      <th>2</th>\n",
       "      <td>3</td>\n",
       "      <td>15619304</td>\n",
       "      <td>Onio</td>\n",
       "      <td>502</td>\n",
       "      <td>France</td>\n",
       "      <td>Female</td>\n",
       "      <td>42</td>\n",
       "      <td>8</td>\n",
       "      <td>159660.80</td>\n",
       "      <td>3</td>\n",
       "      <td>1</td>\n",
       "      <td>0</td>\n",
       "      <td>113931.57</td>\n",
       "      <td>1</td>\n",
       "    </tr>\n",
       "    <tr>\n",
       "      <th>3</th>\n",
       "      <td>4</td>\n",
       "      <td>15701354</td>\n",
       "      <td>Boni</td>\n",
       "      <td>699</td>\n",
       "      <td>France</td>\n",
       "      <td>Female</td>\n",
       "      <td>39</td>\n",
       "      <td>1</td>\n",
       "      <td>0.00</td>\n",
       "      <td>2</td>\n",
       "      <td>0</td>\n",
       "      <td>0</td>\n",
       "      <td>93826.63</td>\n",
       "      <td>0</td>\n",
       "    </tr>\n",
       "    <tr>\n",
       "      <th>4</th>\n",
       "      <td>5</td>\n",
       "      <td>15737888</td>\n",
       "      <td>Mitchell</td>\n",
       "      <td>850</td>\n",
       "      <td>Spain</td>\n",
       "      <td>Female</td>\n",
       "      <td>43</td>\n",
       "      <td>2</td>\n",
       "      <td>125510.82</td>\n",
       "      <td>1</td>\n",
       "      <td>1</td>\n",
       "      <td>1</td>\n",
       "      <td>79084.10</td>\n",
       "      <td>0</td>\n",
       "    </tr>\n",
       "  </tbody>\n",
       "</table>\n",
       "</div>"
      ],
      "text/plain": [
       "   RowNumber  CustomerId   Surname  CreditScore Geography  Gender  Age  \\\n",
       "0          1    15634602  Hargrave          619    France  Female   42   \n",
       "1          2    15647311      Hill          608     Spain  Female   41   \n",
       "2          3    15619304      Onio          502    France  Female   42   \n",
       "3          4    15701354      Boni          699    France  Female   39   \n",
       "4          5    15737888  Mitchell          850     Spain  Female   43   \n",
       "\n",
       "   Tenure    Balance  NumOfProducts  HasCrCard  IsActiveMember  \\\n",
       "0       2       0.00              1          1               1   \n",
       "1       1   83807.86              1          0               1   \n",
       "2       8  159660.80              3          1               0   \n",
       "3       1       0.00              2          0               0   \n",
       "4       2  125510.82              1          1               1   \n",
       "\n",
       "   EstimatedSalary  Exited  \n",
       "0        101348.88       1  \n",
       "1        112542.58       0  \n",
       "2        113931.57       1  \n",
       "3         93826.63       0  \n",
       "4         79084.10       0  "
      ]
     },
     "metadata": {},
     "output_type": "display_data"
    },
    {
     "data": {
      "text/plain": [
       "(10000, 14)"
      ]
     },
     "metadata": {},
     "output_type": "display_data"
    }
   ],
   "source": [
    "data = pd.read_csv('Churn_Modelling.csv')\n",
    "display(data.info())\n",
    "display(data.head())\n",
    "display(data.shape)"
   ]
  },
  {
   "cell_type": "markdown",
   "metadata": {},
   "source": [
    "Немного поработаю над внешним видом таблицы, а именно переименую колонки, хочется, чтобы в некоторых были разделители в названиях для большей наглядности. Также я удалю `RowNumber`, `Surname` на мой взгляд для обучения модели они не нужны - не несут полезной информации."
   ]
  },
  {
   "cell_type": "code",
   "execution_count": 278,
   "metadata": {},
   "outputs": [
    {
     "data": {
      "text/html": [
       "<div>\n",
       "<style scoped>\n",
       "    .dataframe tbody tr th:only-of-type {\n",
       "        vertical-align: middle;\n",
       "    }\n",
       "\n",
       "    .dataframe tbody tr th {\n",
       "        vertical-align: top;\n",
       "    }\n",
       "\n",
       "    .dataframe thead th {\n",
       "        text-align: right;\n",
       "    }\n",
       "</style>\n",
       "<table border=\"1\" class=\"dataframe\">\n",
       "  <thead>\n",
       "    <tr style=\"text-align: right;\">\n",
       "      <th></th>\n",
       "      <th>Customer_Id</th>\n",
       "      <th>Credit_Score</th>\n",
       "      <th>Geography</th>\n",
       "      <th>Gender</th>\n",
       "      <th>Age</th>\n",
       "      <th>Tenure</th>\n",
       "      <th>Balance</th>\n",
       "      <th>Num_Of_Products</th>\n",
       "      <th>Has_Cr_Card</th>\n",
       "      <th>Is_Active_Member</th>\n",
       "      <th>Estimated_Salary</th>\n",
       "      <th>Exited</th>\n",
       "    </tr>\n",
       "  </thead>\n",
       "  <tbody>\n",
       "    <tr>\n",
       "      <th>0</th>\n",
       "      <td>15634602</td>\n",
       "      <td>619</td>\n",
       "      <td>France</td>\n",
       "      <td>Female</td>\n",
       "      <td>42</td>\n",
       "      <td>2</td>\n",
       "      <td>0.00</td>\n",
       "      <td>1</td>\n",
       "      <td>1</td>\n",
       "      <td>1</td>\n",
       "      <td>101348.88</td>\n",
       "      <td>1</td>\n",
       "    </tr>\n",
       "    <tr>\n",
       "      <th>1</th>\n",
       "      <td>15647311</td>\n",
       "      <td>608</td>\n",
       "      <td>Spain</td>\n",
       "      <td>Female</td>\n",
       "      <td>41</td>\n",
       "      <td>1</td>\n",
       "      <td>83807.86</td>\n",
       "      <td>1</td>\n",
       "      <td>0</td>\n",
       "      <td>1</td>\n",
       "      <td>112542.58</td>\n",
       "      <td>0</td>\n",
       "    </tr>\n",
       "    <tr>\n",
       "      <th>2</th>\n",
       "      <td>15619304</td>\n",
       "      <td>502</td>\n",
       "      <td>France</td>\n",
       "      <td>Female</td>\n",
       "      <td>42</td>\n",
       "      <td>8</td>\n",
       "      <td>159660.80</td>\n",
       "      <td>3</td>\n",
       "      <td>1</td>\n",
       "      <td>0</td>\n",
       "      <td>113931.57</td>\n",
       "      <td>1</td>\n",
       "    </tr>\n",
       "    <tr>\n",
       "      <th>3</th>\n",
       "      <td>15701354</td>\n",
       "      <td>699</td>\n",
       "      <td>France</td>\n",
       "      <td>Female</td>\n",
       "      <td>39</td>\n",
       "      <td>1</td>\n",
       "      <td>0.00</td>\n",
       "      <td>2</td>\n",
       "      <td>0</td>\n",
       "      <td>0</td>\n",
       "      <td>93826.63</td>\n",
       "      <td>0</td>\n",
       "    </tr>\n",
       "    <tr>\n",
       "      <th>4</th>\n",
       "      <td>15737888</td>\n",
       "      <td>850</td>\n",
       "      <td>Spain</td>\n",
       "      <td>Female</td>\n",
       "      <td>43</td>\n",
       "      <td>2</td>\n",
       "      <td>125510.82</td>\n",
       "      <td>1</td>\n",
       "      <td>1</td>\n",
       "      <td>1</td>\n",
       "      <td>79084.10</td>\n",
       "      <td>0</td>\n",
       "    </tr>\n",
       "  </tbody>\n",
       "</table>\n",
       "</div>"
      ],
      "text/plain": [
       "   Customer_Id  Credit_Score Geography  Gender  Age  Tenure    Balance  \\\n",
       "0     15634602           619    France  Female   42       2       0.00   \n",
       "1     15647311           608     Spain  Female   41       1   83807.86   \n",
       "2     15619304           502    France  Female   42       8  159660.80   \n",
       "3     15701354           699    France  Female   39       1       0.00   \n",
       "4     15737888           850     Spain  Female   43       2  125510.82   \n",
       "\n",
       "   Num_Of_Products  Has_Cr_Card  Is_Active_Member  Estimated_Salary  Exited  \n",
       "0                1            1                 1         101348.88       1  \n",
       "1                1            0                 1         112542.58       0  \n",
       "2                3            1                 0         113931.57       1  \n",
       "3                2            0                 0          93826.63       0  \n",
       "4                1            1                 1          79084.10       0  "
      ]
     },
     "execution_count": 278,
     "metadata": {},
     "output_type": "execute_result"
    }
   ],
   "source": [
    "data = data.drop(['RowNumber', 'Surname'],axis=1)\n",
    "data.columns = ['Customer_Id', 'Credit_Score', 'Geography',\n",
    "       'Gender', 'Age', 'Tenure', 'Balance', 'Num_Of_Products', 'Has_Cr_Card',\n",
    "       'Is_Active_Member', 'Estimated_Salary', 'Exited']\n",
    "data.head()"
   ]
  },
  {
   "cell_type": "code",
   "execution_count": 280,
   "metadata": {},
   "outputs": [
    {
     "data": {
      "text/plain": [
       "0"
      ]
     },
     "execution_count": 280,
     "metadata": {},
     "output_type": "execute_result"
    }
   ],
   "source": [
    "data.duplicated().sum()"
   ]
  },
  {
   "cell_type": "markdown",
   "metadata": {},
   "source": [
    "Дубликатов и пропусков нет."
   ]
  },
  {
   "cell_type": "markdown",
   "metadata": {},
   "source": [
    "## Исследование задачи"
   ]
  },
  {
   "cell_type": "markdown",
   "metadata": {},
   "source": [
    "На данном этапе обучаю модель, не изучая вопрос дисбаланса классов.\n",
    "Возьму модель случайного леса и логистической регрессии."
   ]
  },
  {
   "cell_type": "markdown",
   "metadata": {},
   "source": [
    "Прежде чем начать обучение, необходимо преобразовать категориальные признаки в численные. В этом мне поможет техника прямого кодирования(OHE). Для прямого кодирования использую функцию pd.get_dummies() с аргументом drop_first=True."
   ]
  },
  {
   "cell_type": "code",
   "execution_count": 281,
   "metadata": {},
   "outputs": [
    {
     "data": {
      "text/html": [
       "<div>\n",
       "<style scoped>\n",
       "    .dataframe tbody tr th:only-of-type {\n",
       "        vertical-align: middle;\n",
       "    }\n",
       "\n",
       "    .dataframe tbody tr th {\n",
       "        vertical-align: top;\n",
       "    }\n",
       "\n",
       "    .dataframe thead th {\n",
       "        text-align: right;\n",
       "    }\n",
       "</style>\n",
       "<table border=\"1\" class=\"dataframe\">\n",
       "  <thead>\n",
       "    <tr style=\"text-align: right;\">\n",
       "      <th></th>\n",
       "      <th>Customer_Id</th>\n",
       "      <th>Credit_Score</th>\n",
       "      <th>Age</th>\n",
       "      <th>Tenure</th>\n",
       "      <th>Balance</th>\n",
       "      <th>Num_Of_Products</th>\n",
       "      <th>Has_Cr_Card</th>\n",
       "      <th>Is_Active_Member</th>\n",
       "      <th>Estimated_Salary</th>\n",
       "      <th>Exited</th>\n",
       "      <th>Geography_Germany</th>\n",
       "      <th>Geography_Spain</th>\n",
       "      <th>Gender_Male</th>\n",
       "    </tr>\n",
       "  </thead>\n",
       "  <tbody>\n",
       "    <tr>\n",
       "      <th>0</th>\n",
       "      <td>15634602</td>\n",
       "      <td>619</td>\n",
       "      <td>42</td>\n",
       "      <td>2</td>\n",
       "      <td>0.00</td>\n",
       "      <td>1</td>\n",
       "      <td>1</td>\n",
       "      <td>1</td>\n",
       "      <td>101348.88</td>\n",
       "      <td>1</td>\n",
       "      <td>0</td>\n",
       "      <td>0</td>\n",
       "      <td>0</td>\n",
       "    </tr>\n",
       "    <tr>\n",
       "      <th>1</th>\n",
       "      <td>15647311</td>\n",
       "      <td>608</td>\n",
       "      <td>41</td>\n",
       "      <td>1</td>\n",
       "      <td>83807.86</td>\n",
       "      <td>1</td>\n",
       "      <td>0</td>\n",
       "      <td>1</td>\n",
       "      <td>112542.58</td>\n",
       "      <td>0</td>\n",
       "      <td>0</td>\n",
       "      <td>1</td>\n",
       "      <td>0</td>\n",
       "    </tr>\n",
       "    <tr>\n",
       "      <th>2</th>\n",
       "      <td>15619304</td>\n",
       "      <td>502</td>\n",
       "      <td>42</td>\n",
       "      <td>8</td>\n",
       "      <td>159660.80</td>\n",
       "      <td>3</td>\n",
       "      <td>1</td>\n",
       "      <td>0</td>\n",
       "      <td>113931.57</td>\n",
       "      <td>1</td>\n",
       "      <td>0</td>\n",
       "      <td>0</td>\n",
       "      <td>0</td>\n",
       "    </tr>\n",
       "    <tr>\n",
       "      <th>3</th>\n",
       "      <td>15701354</td>\n",
       "      <td>699</td>\n",
       "      <td>39</td>\n",
       "      <td>1</td>\n",
       "      <td>0.00</td>\n",
       "      <td>2</td>\n",
       "      <td>0</td>\n",
       "      <td>0</td>\n",
       "      <td>93826.63</td>\n",
       "      <td>0</td>\n",
       "      <td>0</td>\n",
       "      <td>0</td>\n",
       "      <td>0</td>\n",
       "    </tr>\n",
       "    <tr>\n",
       "      <th>4</th>\n",
       "      <td>15737888</td>\n",
       "      <td>850</td>\n",
       "      <td>43</td>\n",
       "      <td>2</td>\n",
       "      <td>125510.82</td>\n",
       "      <td>1</td>\n",
       "      <td>1</td>\n",
       "      <td>1</td>\n",
       "      <td>79084.10</td>\n",
       "      <td>0</td>\n",
       "      <td>0</td>\n",
       "      <td>1</td>\n",
       "      <td>0</td>\n",
       "    </tr>\n",
       "    <tr>\n",
       "      <th>...</th>\n",
       "      <td>...</td>\n",
       "      <td>...</td>\n",
       "      <td>...</td>\n",
       "      <td>...</td>\n",
       "      <td>...</td>\n",
       "      <td>...</td>\n",
       "      <td>...</td>\n",
       "      <td>...</td>\n",
       "      <td>...</td>\n",
       "      <td>...</td>\n",
       "      <td>...</td>\n",
       "      <td>...</td>\n",
       "      <td>...</td>\n",
       "    </tr>\n",
       "    <tr>\n",
       "      <th>9995</th>\n",
       "      <td>15606229</td>\n",
       "      <td>771</td>\n",
       "      <td>39</td>\n",
       "      <td>5</td>\n",
       "      <td>0.00</td>\n",
       "      <td>2</td>\n",
       "      <td>1</td>\n",
       "      <td>0</td>\n",
       "      <td>96270.64</td>\n",
       "      <td>0</td>\n",
       "      <td>0</td>\n",
       "      <td>0</td>\n",
       "      <td>1</td>\n",
       "    </tr>\n",
       "    <tr>\n",
       "      <th>9996</th>\n",
       "      <td>15569892</td>\n",
       "      <td>516</td>\n",
       "      <td>35</td>\n",
       "      <td>10</td>\n",
       "      <td>57369.61</td>\n",
       "      <td>1</td>\n",
       "      <td>1</td>\n",
       "      <td>1</td>\n",
       "      <td>101699.77</td>\n",
       "      <td>0</td>\n",
       "      <td>0</td>\n",
       "      <td>0</td>\n",
       "      <td>1</td>\n",
       "    </tr>\n",
       "    <tr>\n",
       "      <th>9997</th>\n",
       "      <td>15584532</td>\n",
       "      <td>709</td>\n",
       "      <td>36</td>\n",
       "      <td>7</td>\n",
       "      <td>0.00</td>\n",
       "      <td>1</td>\n",
       "      <td>0</td>\n",
       "      <td>1</td>\n",
       "      <td>42085.58</td>\n",
       "      <td>1</td>\n",
       "      <td>0</td>\n",
       "      <td>0</td>\n",
       "      <td>0</td>\n",
       "    </tr>\n",
       "    <tr>\n",
       "      <th>9998</th>\n",
       "      <td>15682355</td>\n",
       "      <td>772</td>\n",
       "      <td>42</td>\n",
       "      <td>3</td>\n",
       "      <td>75075.31</td>\n",
       "      <td>2</td>\n",
       "      <td>1</td>\n",
       "      <td>0</td>\n",
       "      <td>92888.52</td>\n",
       "      <td>1</td>\n",
       "      <td>1</td>\n",
       "      <td>0</td>\n",
       "      <td>1</td>\n",
       "    </tr>\n",
       "    <tr>\n",
       "      <th>9999</th>\n",
       "      <td>15628319</td>\n",
       "      <td>792</td>\n",
       "      <td>28</td>\n",
       "      <td>4</td>\n",
       "      <td>130142.79</td>\n",
       "      <td>1</td>\n",
       "      <td>1</td>\n",
       "      <td>0</td>\n",
       "      <td>38190.78</td>\n",
       "      <td>0</td>\n",
       "      <td>0</td>\n",
       "      <td>0</td>\n",
       "      <td>0</td>\n",
       "    </tr>\n",
       "  </tbody>\n",
       "</table>\n",
       "<p>10000 rows × 13 columns</p>\n",
       "</div>"
      ],
      "text/plain": [
       "      Customer_Id  Credit_Score  Age  Tenure    Balance  Num_Of_Products  \\\n",
       "0        15634602           619   42       2       0.00                1   \n",
       "1        15647311           608   41       1   83807.86                1   \n",
       "2        15619304           502   42       8  159660.80                3   \n",
       "3        15701354           699   39       1       0.00                2   \n",
       "4        15737888           850   43       2  125510.82                1   \n",
       "...           ...           ...  ...     ...        ...              ...   \n",
       "9995     15606229           771   39       5       0.00                2   \n",
       "9996     15569892           516   35      10   57369.61                1   \n",
       "9997     15584532           709   36       7       0.00                1   \n",
       "9998     15682355           772   42       3   75075.31                2   \n",
       "9999     15628319           792   28       4  130142.79                1   \n",
       "\n",
       "      Has_Cr_Card  Is_Active_Member  Estimated_Salary  Exited  \\\n",
       "0               1                 1         101348.88       1   \n",
       "1               0                 1         112542.58       0   \n",
       "2               1                 0         113931.57       1   \n",
       "3               0                 0          93826.63       0   \n",
       "4               1                 1          79084.10       0   \n",
       "...           ...               ...               ...     ...   \n",
       "9995            1                 0          96270.64       0   \n",
       "9996            1                 1         101699.77       0   \n",
       "9997            0                 1          42085.58       1   \n",
       "9998            1                 0          92888.52       1   \n",
       "9999            1                 0          38190.78       0   \n",
       "\n",
       "      Geography_Germany  Geography_Spain  Gender_Male  \n",
       "0                     0                0            0  \n",
       "1                     0                1            0  \n",
       "2                     0                0            0  \n",
       "3                     0                0            0  \n",
       "4                     0                1            0  \n",
       "...                 ...              ...          ...  \n",
       "9995                  0                0            1  \n",
       "9996                  0                0            1  \n",
       "9997                  0                0            0  \n",
       "9998                  1                0            1  \n",
       "9999                  0                0            0  \n",
       "\n",
       "[10000 rows x 13 columns]"
      ]
     },
     "metadata": {},
     "output_type": "display_data"
    }
   ],
   "source": [
    "data = pd.get_dummies(data, drop_first=True)\n",
    "display(data)"
   ]
  },
  {
   "cell_type": "markdown",
   "metadata": {},
   "source": [
    "Разделяю данные. Переменные `feature_train`, `feature_test`, `feature_valid` содержат признаки для обучения тестирования и валидации соответственно. Переменные `target_train`, `target_test`, `target_valid` содержат целевые признаки."
   ]
  },
  {
   "cell_type": "code",
   "execution_count": 282,
   "metadata": {},
   "outputs": [],
   "source": [
    "feature = data.drop(['Exited'], axis=1)\n",
    "target = data['Exited']\n",
    "\n",
    "feature_train, feature_test, target_train, target_test = train_test_split(\n",
    "    feature, target, test_size=0.25, random_state=12345)\n",
    "\n",
    "feature_train, feature_valid, target_train, target_valid = train_test_split(\n",
    "    feature_train, target_train, test_size=0.25, random_state=12345)\n"
   ]
  },
  {
   "cell_type": "code",
   "execution_count": 283,
   "metadata": {},
   "outputs": [
    {
     "data": {
      "text/plain": [
       "(5625, 12)"
      ]
     },
     "metadata": {},
     "output_type": "display_data"
    },
    {
     "data": {
      "text/plain": [
       "(1875, 12)"
      ]
     },
     "metadata": {},
     "output_type": "display_data"
    },
    {
     "data": {
      "text/plain": [
       "(2500, 12)"
      ]
     },
     "metadata": {},
     "output_type": "display_data"
    }
   ],
   "source": [
    "display(feature_train.shape)\n",
    "display(feature_valid.shape)\n",
    "display(feature_test.shape)"
   ]
  },
  {
   "cell_type": "markdown",
   "metadata": {},
   "source": [
    "Логистическая регрессия."
   ]
  },
  {
   "cell_type": "code",
   "execution_count": 284,
   "metadata": {},
   "outputs": [
    {
     "name": "stdout",
     "output_type": "stream",
     "text": [
      "f1-score: 0.3104125736738703\n",
      "roc-auc-score: 0.7910403098046119\n"
     ]
    }
   ],
   "source": [
    "model = LogisticRegression(random_state=12345, solver='liblinear',penalty='l1')\n",
    "model.fit(feature_train, target_train)\n",
    "predicted_valid = model.predict(feature_valid)\n",
    "print(\"f1-score:\", f1_score(target_valid, predicted_valid))\n",
    "print(\"roc-auc-score:\" , roc_auc_score(target_valid, model.predict_proba(feature_valid)[:, 1]))"
   ]
  },
  {
   "cell_type": "markdown",
   "metadata": {},
   "source": [
    "Случайный лес."
   ]
  },
  {
   "cell_type": "code",
   "execution_count": 285,
   "metadata": {},
   "outputs": [
    {
     "name": "stdout",
     "output_type": "stream",
     "text": [
      "f1-score: 0.5597269624573379\n",
      "roc-auc-score: 0.8555175145220912\n"
     ]
    }
   ],
   "source": [
    "model = RandomForestClassifier(random_state=12345, n_estimators=26, max_depth=10) \n",
    "model.fit(feature_train, target_train)\n",
    "predicted_valid = model.predict(feature_valid)\n",
    "print(\"f1-score:\", f1_score(target_valid, predicted_valid))\n",
    "print(\"roc-auc-score:\" , roc_auc_score(target_valid, model.predict_proba(feature_valid)[:, 1]))"
   ]
  },
  {
   "cell_type": "markdown",
   "metadata": {},
   "source": [
    "<div class=\"alert alert-block alert-success\">\n",
    "<b>Комментарий студента:</b> Подберем параметры для моделей.\n",
    "</div>"
   ]
  },
  {
   "cell_type": "code",
   "execution_count": 261,
   "metadata": {},
   "outputs": [
    {
     "ename": "KeyboardInterrupt",
     "evalue": "",
     "output_type": "error",
     "traceback": [
      "\u001b[0;31m---------------------------------------------------------------------------\u001b[0m",
      "\u001b[0;31mKeyboardInterrupt\u001b[0m                         Traceback (most recent call last)",
      "\u001b[0;32m/var/folders/m5/dy9nlqyd72g0f97d7z140czm0000gn/T/ipykernel_35182/1228828710.py\u001b[0m in \u001b[0;36m<module>\u001b[0;34m\u001b[0m\n\u001b[1;32m      7\u001b[0m grid_forest = GridSearchCV(RandomForestClassifier(random_state=12345), parameters,\\\n\u001b[1;32m      8\u001b[0m                            scoring='f1', cv = 5)   \n\u001b[0;32m----> 9\u001b[0;31m \u001b[0mgrid_forest\u001b[0m\u001b[0;34m.\u001b[0m\u001b[0mfit\u001b[0m\u001b[0;34m(\u001b[0m\u001b[0mfeature_train\u001b[0m\u001b[0;34m,\u001b[0m \u001b[0mtarget_train\u001b[0m\u001b[0;34m)\u001b[0m\u001b[0;34m\u001b[0m\u001b[0;34m\u001b[0m\u001b[0m\n\u001b[0m\u001b[1;32m     10\u001b[0m \u001b[0;34m\u001b[0m\u001b[0m\n\u001b[1;32m     11\u001b[0m \u001b[0;31m#grid_forest.best_params_\u001b[0m\u001b[0;34m\u001b[0m\u001b[0;34m\u001b[0m\u001b[0m\n",
      "\u001b[0;32m~/opt/anaconda3/lib/python3.9/site-packages/sklearn/model_selection/_search.py\u001b[0m in \u001b[0;36mfit\u001b[0;34m(self, X, y, groups, **fit_params)\u001b[0m\n\u001b[1;32m    889\u001b[0m                 \u001b[0;32mreturn\u001b[0m \u001b[0mresults\u001b[0m\u001b[0;34m\u001b[0m\u001b[0;34m\u001b[0m\u001b[0m\n\u001b[1;32m    890\u001b[0m \u001b[0;34m\u001b[0m\u001b[0m\n\u001b[0;32m--> 891\u001b[0;31m             \u001b[0mself\u001b[0m\u001b[0;34m.\u001b[0m\u001b[0m_run_search\u001b[0m\u001b[0;34m(\u001b[0m\u001b[0mevaluate_candidates\u001b[0m\u001b[0;34m)\u001b[0m\u001b[0;34m\u001b[0m\u001b[0;34m\u001b[0m\u001b[0m\n\u001b[0m\u001b[1;32m    892\u001b[0m \u001b[0;34m\u001b[0m\u001b[0m\n\u001b[1;32m    893\u001b[0m             \u001b[0;31m# multimetric is determined here because in the case of a callable\u001b[0m\u001b[0;34m\u001b[0m\u001b[0;34m\u001b[0m\u001b[0m\n",
      "\u001b[0;32m~/opt/anaconda3/lib/python3.9/site-packages/sklearn/model_selection/_search.py\u001b[0m in \u001b[0;36m_run_search\u001b[0;34m(self, evaluate_candidates)\u001b[0m\n\u001b[1;32m   1390\u001b[0m     \u001b[0;32mdef\u001b[0m \u001b[0m_run_search\u001b[0m\u001b[0;34m(\u001b[0m\u001b[0mself\u001b[0m\u001b[0;34m,\u001b[0m \u001b[0mevaluate_candidates\u001b[0m\u001b[0;34m)\u001b[0m\u001b[0;34m:\u001b[0m\u001b[0;34m\u001b[0m\u001b[0;34m\u001b[0m\u001b[0m\n\u001b[1;32m   1391\u001b[0m         \u001b[0;34m\"\"\"Search all candidates in param_grid\"\"\"\u001b[0m\u001b[0;34m\u001b[0m\u001b[0;34m\u001b[0m\u001b[0m\n\u001b[0;32m-> 1392\u001b[0;31m         \u001b[0mevaluate_candidates\u001b[0m\u001b[0;34m(\u001b[0m\u001b[0mParameterGrid\u001b[0m\u001b[0;34m(\u001b[0m\u001b[0mself\u001b[0m\u001b[0;34m.\u001b[0m\u001b[0mparam_grid\u001b[0m\u001b[0;34m)\u001b[0m\u001b[0;34m)\u001b[0m\u001b[0;34m\u001b[0m\u001b[0;34m\u001b[0m\u001b[0m\n\u001b[0m\u001b[1;32m   1393\u001b[0m \u001b[0;34m\u001b[0m\u001b[0m\n\u001b[1;32m   1394\u001b[0m \u001b[0;34m\u001b[0m\u001b[0m\n",
      "\u001b[0;32m~/opt/anaconda3/lib/python3.9/site-packages/sklearn/model_selection/_search.py\u001b[0m in \u001b[0;36mevaluate_candidates\u001b[0;34m(candidate_params, cv, more_results)\u001b[0m\n\u001b[1;32m    836\u001b[0m                     )\n\u001b[1;32m    837\u001b[0m \u001b[0;34m\u001b[0m\u001b[0m\n\u001b[0;32m--> 838\u001b[0;31m                 out = parallel(\n\u001b[0m\u001b[1;32m    839\u001b[0m                     delayed(_fit_and_score)(\n\u001b[1;32m    840\u001b[0m                         \u001b[0mclone\u001b[0m\u001b[0;34m(\u001b[0m\u001b[0mbase_estimator\u001b[0m\u001b[0;34m)\u001b[0m\u001b[0;34m,\u001b[0m\u001b[0;34m\u001b[0m\u001b[0;34m\u001b[0m\u001b[0m\n",
      "\u001b[0;32m~/opt/anaconda3/lib/python3.9/site-packages/joblib/parallel.py\u001b[0m in \u001b[0;36m__call__\u001b[0;34m(self, iterable)\u001b[0m\n\u001b[1;32m   1044\u001b[0m                 \u001b[0mself\u001b[0m\u001b[0;34m.\u001b[0m\u001b[0m_iterating\u001b[0m \u001b[0;34m=\u001b[0m \u001b[0mself\u001b[0m\u001b[0;34m.\u001b[0m\u001b[0m_original_iterator\u001b[0m \u001b[0;32mis\u001b[0m \u001b[0;32mnot\u001b[0m \u001b[0;32mNone\u001b[0m\u001b[0;34m\u001b[0m\u001b[0;34m\u001b[0m\u001b[0m\n\u001b[1;32m   1045\u001b[0m \u001b[0;34m\u001b[0m\u001b[0m\n\u001b[0;32m-> 1046\u001b[0;31m             \u001b[0;32mwhile\u001b[0m \u001b[0mself\u001b[0m\u001b[0;34m.\u001b[0m\u001b[0mdispatch_one_batch\u001b[0m\u001b[0;34m(\u001b[0m\u001b[0miterator\u001b[0m\u001b[0;34m)\u001b[0m\u001b[0;34m:\u001b[0m\u001b[0;34m\u001b[0m\u001b[0;34m\u001b[0m\u001b[0m\n\u001b[0m\u001b[1;32m   1047\u001b[0m                 \u001b[0;32mpass\u001b[0m\u001b[0;34m\u001b[0m\u001b[0;34m\u001b[0m\u001b[0m\n\u001b[1;32m   1048\u001b[0m \u001b[0;34m\u001b[0m\u001b[0m\n",
      "\u001b[0;32m~/opt/anaconda3/lib/python3.9/site-packages/joblib/parallel.py\u001b[0m in \u001b[0;36mdispatch_one_batch\u001b[0;34m(self, iterator)\u001b[0m\n\u001b[1;32m    859\u001b[0m                 \u001b[0;32mreturn\u001b[0m \u001b[0;32mFalse\u001b[0m\u001b[0;34m\u001b[0m\u001b[0;34m\u001b[0m\u001b[0m\n\u001b[1;32m    860\u001b[0m             \u001b[0;32melse\u001b[0m\u001b[0;34m:\u001b[0m\u001b[0;34m\u001b[0m\u001b[0;34m\u001b[0m\u001b[0m\n\u001b[0;32m--> 861\u001b[0;31m                 \u001b[0mself\u001b[0m\u001b[0;34m.\u001b[0m\u001b[0m_dispatch\u001b[0m\u001b[0;34m(\u001b[0m\u001b[0mtasks\u001b[0m\u001b[0;34m)\u001b[0m\u001b[0;34m\u001b[0m\u001b[0;34m\u001b[0m\u001b[0m\n\u001b[0m\u001b[1;32m    862\u001b[0m                 \u001b[0;32mreturn\u001b[0m \u001b[0;32mTrue\u001b[0m\u001b[0;34m\u001b[0m\u001b[0;34m\u001b[0m\u001b[0m\n\u001b[1;32m    863\u001b[0m \u001b[0;34m\u001b[0m\u001b[0m\n",
      "\u001b[0;32m~/opt/anaconda3/lib/python3.9/site-packages/joblib/parallel.py\u001b[0m in \u001b[0;36m_dispatch\u001b[0;34m(self, batch)\u001b[0m\n\u001b[1;32m    777\u001b[0m         \u001b[0;32mwith\u001b[0m \u001b[0mself\u001b[0m\u001b[0;34m.\u001b[0m\u001b[0m_lock\u001b[0m\u001b[0;34m:\u001b[0m\u001b[0;34m\u001b[0m\u001b[0;34m\u001b[0m\u001b[0m\n\u001b[1;32m    778\u001b[0m             \u001b[0mjob_idx\u001b[0m \u001b[0;34m=\u001b[0m \u001b[0mlen\u001b[0m\u001b[0;34m(\u001b[0m\u001b[0mself\u001b[0m\u001b[0;34m.\u001b[0m\u001b[0m_jobs\u001b[0m\u001b[0;34m)\u001b[0m\u001b[0;34m\u001b[0m\u001b[0;34m\u001b[0m\u001b[0m\n\u001b[0;32m--> 779\u001b[0;31m             \u001b[0mjob\u001b[0m \u001b[0;34m=\u001b[0m \u001b[0mself\u001b[0m\u001b[0;34m.\u001b[0m\u001b[0m_backend\u001b[0m\u001b[0;34m.\u001b[0m\u001b[0mapply_async\u001b[0m\u001b[0;34m(\u001b[0m\u001b[0mbatch\u001b[0m\u001b[0;34m,\u001b[0m \u001b[0mcallback\u001b[0m\u001b[0;34m=\u001b[0m\u001b[0mcb\u001b[0m\u001b[0;34m)\u001b[0m\u001b[0;34m\u001b[0m\u001b[0;34m\u001b[0m\u001b[0m\n\u001b[0m\u001b[1;32m    780\u001b[0m             \u001b[0;31m# A job can complete so quickly than its callback is\u001b[0m\u001b[0;34m\u001b[0m\u001b[0;34m\u001b[0m\u001b[0m\n\u001b[1;32m    781\u001b[0m             \u001b[0;31m# called before we get here, causing self._jobs to\u001b[0m\u001b[0;34m\u001b[0m\u001b[0;34m\u001b[0m\u001b[0m\n",
      "\u001b[0;32m~/opt/anaconda3/lib/python3.9/site-packages/joblib/_parallel_backends.py\u001b[0m in \u001b[0;36mapply_async\u001b[0;34m(self, func, callback)\u001b[0m\n\u001b[1;32m    206\u001b[0m     \u001b[0;32mdef\u001b[0m \u001b[0mapply_async\u001b[0m\u001b[0;34m(\u001b[0m\u001b[0mself\u001b[0m\u001b[0;34m,\u001b[0m \u001b[0mfunc\u001b[0m\u001b[0;34m,\u001b[0m \u001b[0mcallback\u001b[0m\u001b[0;34m=\u001b[0m\u001b[0;32mNone\u001b[0m\u001b[0;34m)\u001b[0m\u001b[0;34m:\u001b[0m\u001b[0;34m\u001b[0m\u001b[0;34m\u001b[0m\u001b[0m\n\u001b[1;32m    207\u001b[0m         \u001b[0;34m\"\"\"Schedule a func to be run\"\"\"\u001b[0m\u001b[0;34m\u001b[0m\u001b[0;34m\u001b[0m\u001b[0m\n\u001b[0;32m--> 208\u001b[0;31m         \u001b[0mresult\u001b[0m \u001b[0;34m=\u001b[0m \u001b[0mImmediateResult\u001b[0m\u001b[0;34m(\u001b[0m\u001b[0mfunc\u001b[0m\u001b[0;34m)\u001b[0m\u001b[0;34m\u001b[0m\u001b[0;34m\u001b[0m\u001b[0m\n\u001b[0m\u001b[1;32m    209\u001b[0m         \u001b[0;32mif\u001b[0m \u001b[0mcallback\u001b[0m\u001b[0;34m:\u001b[0m\u001b[0;34m\u001b[0m\u001b[0;34m\u001b[0m\u001b[0m\n\u001b[1;32m    210\u001b[0m             \u001b[0mcallback\u001b[0m\u001b[0;34m(\u001b[0m\u001b[0mresult\u001b[0m\u001b[0;34m)\u001b[0m\u001b[0;34m\u001b[0m\u001b[0;34m\u001b[0m\u001b[0m\n",
      "\u001b[0;32m~/opt/anaconda3/lib/python3.9/site-packages/joblib/_parallel_backends.py\u001b[0m in \u001b[0;36m__init__\u001b[0;34m(self, batch)\u001b[0m\n\u001b[1;32m    570\u001b[0m         \u001b[0;31m# Don't delay the application, to avoid keeping the input\u001b[0m\u001b[0;34m\u001b[0m\u001b[0;34m\u001b[0m\u001b[0m\n\u001b[1;32m    571\u001b[0m         \u001b[0;31m# arguments in memory\u001b[0m\u001b[0;34m\u001b[0m\u001b[0;34m\u001b[0m\u001b[0m\n\u001b[0;32m--> 572\u001b[0;31m         \u001b[0mself\u001b[0m\u001b[0;34m.\u001b[0m\u001b[0mresults\u001b[0m \u001b[0;34m=\u001b[0m \u001b[0mbatch\u001b[0m\u001b[0;34m(\u001b[0m\u001b[0;34m)\u001b[0m\u001b[0;34m\u001b[0m\u001b[0;34m\u001b[0m\u001b[0m\n\u001b[0m\u001b[1;32m    573\u001b[0m \u001b[0;34m\u001b[0m\u001b[0m\n\u001b[1;32m    574\u001b[0m     \u001b[0;32mdef\u001b[0m \u001b[0mget\u001b[0m\u001b[0;34m(\u001b[0m\u001b[0mself\u001b[0m\u001b[0;34m)\u001b[0m\u001b[0;34m:\u001b[0m\u001b[0;34m\u001b[0m\u001b[0;34m\u001b[0m\u001b[0m\n",
      "\u001b[0;32m~/opt/anaconda3/lib/python3.9/site-packages/joblib/parallel.py\u001b[0m in \u001b[0;36m__call__\u001b[0;34m(self)\u001b[0m\n\u001b[1;32m    260\u001b[0m         \u001b[0;31m# change the default number of processes to -1\u001b[0m\u001b[0;34m\u001b[0m\u001b[0;34m\u001b[0m\u001b[0m\n\u001b[1;32m    261\u001b[0m         \u001b[0;32mwith\u001b[0m \u001b[0mparallel_backend\u001b[0m\u001b[0;34m(\u001b[0m\u001b[0mself\u001b[0m\u001b[0;34m.\u001b[0m\u001b[0m_backend\u001b[0m\u001b[0;34m,\u001b[0m \u001b[0mn_jobs\u001b[0m\u001b[0;34m=\u001b[0m\u001b[0mself\u001b[0m\u001b[0;34m.\u001b[0m\u001b[0m_n_jobs\u001b[0m\u001b[0;34m)\u001b[0m\u001b[0;34m:\u001b[0m\u001b[0;34m\u001b[0m\u001b[0;34m\u001b[0m\u001b[0m\n\u001b[0;32m--> 262\u001b[0;31m             return [func(*args, **kwargs)\n\u001b[0m\u001b[1;32m    263\u001b[0m                     for func, args, kwargs in self.items]\n\u001b[1;32m    264\u001b[0m \u001b[0;34m\u001b[0m\u001b[0m\n",
      "\u001b[0;32m~/opt/anaconda3/lib/python3.9/site-packages/joblib/parallel.py\u001b[0m in \u001b[0;36m<listcomp>\u001b[0;34m(.0)\u001b[0m\n\u001b[1;32m    260\u001b[0m         \u001b[0;31m# change the default number of processes to -1\u001b[0m\u001b[0;34m\u001b[0m\u001b[0;34m\u001b[0m\u001b[0m\n\u001b[1;32m    261\u001b[0m         \u001b[0;32mwith\u001b[0m \u001b[0mparallel_backend\u001b[0m\u001b[0;34m(\u001b[0m\u001b[0mself\u001b[0m\u001b[0;34m.\u001b[0m\u001b[0m_backend\u001b[0m\u001b[0;34m,\u001b[0m \u001b[0mn_jobs\u001b[0m\u001b[0;34m=\u001b[0m\u001b[0mself\u001b[0m\u001b[0;34m.\u001b[0m\u001b[0m_n_jobs\u001b[0m\u001b[0;34m)\u001b[0m\u001b[0;34m:\u001b[0m\u001b[0;34m\u001b[0m\u001b[0;34m\u001b[0m\u001b[0m\n\u001b[0;32m--> 262\u001b[0;31m             return [func(*args, **kwargs)\n\u001b[0m\u001b[1;32m    263\u001b[0m                     for func, args, kwargs in self.items]\n\u001b[1;32m    264\u001b[0m \u001b[0;34m\u001b[0m\u001b[0m\n",
      "\u001b[0;32m~/opt/anaconda3/lib/python3.9/site-packages/sklearn/utils/fixes.py\u001b[0m in \u001b[0;36m__call__\u001b[0;34m(self, *args, **kwargs)\u001b[0m\n\u001b[1;32m    214\u001b[0m     \u001b[0;32mdef\u001b[0m \u001b[0m__call__\u001b[0m\u001b[0;34m(\u001b[0m\u001b[0mself\u001b[0m\u001b[0;34m,\u001b[0m \u001b[0;34m*\u001b[0m\u001b[0margs\u001b[0m\u001b[0;34m,\u001b[0m \u001b[0;34m**\u001b[0m\u001b[0mkwargs\u001b[0m\u001b[0;34m)\u001b[0m\u001b[0;34m:\u001b[0m\u001b[0;34m\u001b[0m\u001b[0;34m\u001b[0m\u001b[0m\n\u001b[1;32m    215\u001b[0m         \u001b[0;32mwith\u001b[0m \u001b[0mconfig_context\u001b[0m\u001b[0;34m(\u001b[0m\u001b[0;34m**\u001b[0m\u001b[0mself\u001b[0m\u001b[0;34m.\u001b[0m\u001b[0mconfig\u001b[0m\u001b[0;34m)\u001b[0m\u001b[0;34m:\u001b[0m\u001b[0;34m\u001b[0m\u001b[0;34m\u001b[0m\u001b[0m\n\u001b[0;32m--> 216\u001b[0;31m             \u001b[0;32mreturn\u001b[0m \u001b[0mself\u001b[0m\u001b[0;34m.\u001b[0m\u001b[0mfunction\u001b[0m\u001b[0;34m(\u001b[0m\u001b[0;34m*\u001b[0m\u001b[0margs\u001b[0m\u001b[0;34m,\u001b[0m \u001b[0;34m**\u001b[0m\u001b[0mkwargs\u001b[0m\u001b[0;34m)\u001b[0m\u001b[0;34m\u001b[0m\u001b[0;34m\u001b[0m\u001b[0m\n\u001b[0m\u001b[1;32m    217\u001b[0m \u001b[0;34m\u001b[0m\u001b[0m\n\u001b[1;32m    218\u001b[0m \u001b[0;34m\u001b[0m\u001b[0m\n",
      "\u001b[0;32m~/opt/anaconda3/lib/python3.9/site-packages/sklearn/model_selection/_validation.py\u001b[0m in \u001b[0;36m_fit_and_score\u001b[0;34m(estimator, X, y, scorer, train, test, verbose, parameters, fit_params, return_train_score, return_parameters, return_n_test_samples, return_times, return_estimator, split_progress, candidate_progress, error_score)\u001b[0m\n\u001b[1;32m    678\u001b[0m             \u001b[0mestimator\u001b[0m\u001b[0;34m.\u001b[0m\u001b[0mfit\u001b[0m\u001b[0;34m(\u001b[0m\u001b[0mX_train\u001b[0m\u001b[0;34m,\u001b[0m \u001b[0;34m**\u001b[0m\u001b[0mfit_params\u001b[0m\u001b[0;34m)\u001b[0m\u001b[0;34m\u001b[0m\u001b[0;34m\u001b[0m\u001b[0m\n\u001b[1;32m    679\u001b[0m         \u001b[0;32melse\u001b[0m\u001b[0;34m:\u001b[0m\u001b[0;34m\u001b[0m\u001b[0;34m\u001b[0m\u001b[0m\n\u001b[0;32m--> 680\u001b[0;31m             \u001b[0mestimator\u001b[0m\u001b[0;34m.\u001b[0m\u001b[0mfit\u001b[0m\u001b[0;34m(\u001b[0m\u001b[0mX_train\u001b[0m\u001b[0;34m,\u001b[0m \u001b[0my_train\u001b[0m\u001b[0;34m,\u001b[0m \u001b[0;34m**\u001b[0m\u001b[0mfit_params\u001b[0m\u001b[0;34m)\u001b[0m\u001b[0;34m\u001b[0m\u001b[0;34m\u001b[0m\u001b[0m\n\u001b[0m\u001b[1;32m    681\u001b[0m \u001b[0;34m\u001b[0m\u001b[0m\n\u001b[1;32m    682\u001b[0m     \u001b[0;32mexcept\u001b[0m \u001b[0mException\u001b[0m\u001b[0;34m:\u001b[0m\u001b[0;34m\u001b[0m\u001b[0;34m\u001b[0m\u001b[0m\n",
      "\u001b[0;32m~/opt/anaconda3/lib/python3.9/site-packages/sklearn/ensemble/_forest.py\u001b[0m in \u001b[0;36mfit\u001b[0;34m(self, X, y, sample_weight)\u001b[0m\n\u001b[1;32m    448\u001b[0m             \u001b[0;31m# parallel_backend contexts set at a higher level,\u001b[0m\u001b[0;34m\u001b[0m\u001b[0;34m\u001b[0m\u001b[0m\n\u001b[1;32m    449\u001b[0m             \u001b[0;31m# since correctness does not rely on using threads.\u001b[0m\u001b[0;34m\u001b[0m\u001b[0;34m\u001b[0m\u001b[0m\n\u001b[0;32m--> 450\u001b[0;31m             trees = Parallel(\n\u001b[0m\u001b[1;32m    451\u001b[0m                 \u001b[0mn_jobs\u001b[0m\u001b[0;34m=\u001b[0m\u001b[0mself\u001b[0m\u001b[0;34m.\u001b[0m\u001b[0mn_jobs\u001b[0m\u001b[0;34m,\u001b[0m\u001b[0;34m\u001b[0m\u001b[0;34m\u001b[0m\u001b[0m\n\u001b[1;32m    452\u001b[0m                 \u001b[0mverbose\u001b[0m\u001b[0;34m=\u001b[0m\u001b[0mself\u001b[0m\u001b[0;34m.\u001b[0m\u001b[0mverbose\u001b[0m\u001b[0;34m,\u001b[0m\u001b[0;34m\u001b[0m\u001b[0;34m\u001b[0m\u001b[0m\n",
      "\u001b[0;32m~/opt/anaconda3/lib/python3.9/site-packages/joblib/parallel.py\u001b[0m in \u001b[0;36m__call__\u001b[0;34m(self, iterable)\u001b[0m\n\u001b[1;32m   1041\u001b[0m             \u001b[0;31m# remaining jobs.\u001b[0m\u001b[0;34m\u001b[0m\u001b[0;34m\u001b[0m\u001b[0m\n\u001b[1;32m   1042\u001b[0m             \u001b[0mself\u001b[0m\u001b[0;34m.\u001b[0m\u001b[0m_iterating\u001b[0m \u001b[0;34m=\u001b[0m \u001b[0;32mFalse\u001b[0m\u001b[0;34m\u001b[0m\u001b[0;34m\u001b[0m\u001b[0m\n\u001b[0;32m-> 1043\u001b[0;31m             \u001b[0;32mif\u001b[0m \u001b[0mself\u001b[0m\u001b[0;34m.\u001b[0m\u001b[0mdispatch_one_batch\u001b[0m\u001b[0;34m(\u001b[0m\u001b[0miterator\u001b[0m\u001b[0;34m)\u001b[0m\u001b[0;34m:\u001b[0m\u001b[0;34m\u001b[0m\u001b[0;34m\u001b[0m\u001b[0m\n\u001b[0m\u001b[1;32m   1044\u001b[0m                 \u001b[0mself\u001b[0m\u001b[0;34m.\u001b[0m\u001b[0m_iterating\u001b[0m \u001b[0;34m=\u001b[0m \u001b[0mself\u001b[0m\u001b[0;34m.\u001b[0m\u001b[0m_original_iterator\u001b[0m \u001b[0;32mis\u001b[0m \u001b[0;32mnot\u001b[0m \u001b[0;32mNone\u001b[0m\u001b[0;34m\u001b[0m\u001b[0;34m\u001b[0m\u001b[0m\n\u001b[1;32m   1045\u001b[0m \u001b[0;34m\u001b[0m\u001b[0m\n",
      "\u001b[0;32m~/opt/anaconda3/lib/python3.9/site-packages/joblib/parallel.py\u001b[0m in \u001b[0;36mdispatch_one_batch\u001b[0;34m(self, iterator)\u001b[0m\n\u001b[1;32m    859\u001b[0m                 \u001b[0;32mreturn\u001b[0m \u001b[0;32mFalse\u001b[0m\u001b[0;34m\u001b[0m\u001b[0;34m\u001b[0m\u001b[0m\n\u001b[1;32m    860\u001b[0m             \u001b[0;32melse\u001b[0m\u001b[0;34m:\u001b[0m\u001b[0;34m\u001b[0m\u001b[0;34m\u001b[0m\u001b[0m\n\u001b[0;32m--> 861\u001b[0;31m                 \u001b[0mself\u001b[0m\u001b[0;34m.\u001b[0m\u001b[0m_dispatch\u001b[0m\u001b[0;34m(\u001b[0m\u001b[0mtasks\u001b[0m\u001b[0;34m)\u001b[0m\u001b[0;34m\u001b[0m\u001b[0;34m\u001b[0m\u001b[0m\n\u001b[0m\u001b[1;32m    862\u001b[0m                 \u001b[0;32mreturn\u001b[0m \u001b[0;32mTrue\u001b[0m\u001b[0;34m\u001b[0m\u001b[0;34m\u001b[0m\u001b[0m\n\u001b[1;32m    863\u001b[0m \u001b[0;34m\u001b[0m\u001b[0m\n",
      "\u001b[0;32m~/opt/anaconda3/lib/python3.9/site-packages/joblib/parallel.py\u001b[0m in \u001b[0;36m_dispatch\u001b[0;34m(self, batch)\u001b[0m\n\u001b[1;32m    777\u001b[0m         \u001b[0;32mwith\u001b[0m \u001b[0mself\u001b[0m\u001b[0;34m.\u001b[0m\u001b[0m_lock\u001b[0m\u001b[0;34m:\u001b[0m\u001b[0;34m\u001b[0m\u001b[0;34m\u001b[0m\u001b[0m\n\u001b[1;32m    778\u001b[0m             \u001b[0mjob_idx\u001b[0m \u001b[0;34m=\u001b[0m \u001b[0mlen\u001b[0m\u001b[0;34m(\u001b[0m\u001b[0mself\u001b[0m\u001b[0;34m.\u001b[0m\u001b[0m_jobs\u001b[0m\u001b[0;34m)\u001b[0m\u001b[0;34m\u001b[0m\u001b[0;34m\u001b[0m\u001b[0m\n\u001b[0;32m--> 779\u001b[0;31m             \u001b[0mjob\u001b[0m \u001b[0;34m=\u001b[0m \u001b[0mself\u001b[0m\u001b[0;34m.\u001b[0m\u001b[0m_backend\u001b[0m\u001b[0;34m.\u001b[0m\u001b[0mapply_async\u001b[0m\u001b[0;34m(\u001b[0m\u001b[0mbatch\u001b[0m\u001b[0;34m,\u001b[0m \u001b[0mcallback\u001b[0m\u001b[0;34m=\u001b[0m\u001b[0mcb\u001b[0m\u001b[0;34m)\u001b[0m\u001b[0;34m\u001b[0m\u001b[0;34m\u001b[0m\u001b[0m\n\u001b[0m\u001b[1;32m    780\u001b[0m             \u001b[0;31m# A job can complete so quickly than its callback is\u001b[0m\u001b[0;34m\u001b[0m\u001b[0;34m\u001b[0m\u001b[0m\n\u001b[1;32m    781\u001b[0m             \u001b[0;31m# called before we get here, causing self._jobs to\u001b[0m\u001b[0;34m\u001b[0m\u001b[0;34m\u001b[0m\u001b[0m\n",
      "\u001b[0;32m~/opt/anaconda3/lib/python3.9/site-packages/joblib/_parallel_backends.py\u001b[0m in \u001b[0;36mapply_async\u001b[0;34m(self, func, callback)\u001b[0m\n\u001b[1;32m    206\u001b[0m     \u001b[0;32mdef\u001b[0m \u001b[0mapply_async\u001b[0m\u001b[0;34m(\u001b[0m\u001b[0mself\u001b[0m\u001b[0;34m,\u001b[0m \u001b[0mfunc\u001b[0m\u001b[0;34m,\u001b[0m \u001b[0mcallback\u001b[0m\u001b[0;34m=\u001b[0m\u001b[0;32mNone\u001b[0m\u001b[0;34m)\u001b[0m\u001b[0;34m:\u001b[0m\u001b[0;34m\u001b[0m\u001b[0;34m\u001b[0m\u001b[0m\n\u001b[1;32m    207\u001b[0m         \u001b[0;34m\"\"\"Schedule a func to be run\"\"\"\u001b[0m\u001b[0;34m\u001b[0m\u001b[0;34m\u001b[0m\u001b[0m\n\u001b[0;32m--> 208\u001b[0;31m         \u001b[0mresult\u001b[0m \u001b[0;34m=\u001b[0m \u001b[0mImmediateResult\u001b[0m\u001b[0;34m(\u001b[0m\u001b[0mfunc\u001b[0m\u001b[0;34m)\u001b[0m\u001b[0;34m\u001b[0m\u001b[0;34m\u001b[0m\u001b[0m\n\u001b[0m\u001b[1;32m    209\u001b[0m         \u001b[0;32mif\u001b[0m \u001b[0mcallback\u001b[0m\u001b[0;34m:\u001b[0m\u001b[0;34m\u001b[0m\u001b[0;34m\u001b[0m\u001b[0m\n\u001b[1;32m    210\u001b[0m             \u001b[0mcallback\u001b[0m\u001b[0;34m(\u001b[0m\u001b[0mresult\u001b[0m\u001b[0;34m)\u001b[0m\u001b[0;34m\u001b[0m\u001b[0;34m\u001b[0m\u001b[0m\n",
      "\u001b[0;32m~/opt/anaconda3/lib/python3.9/site-packages/joblib/_parallel_backends.py\u001b[0m in \u001b[0;36m__init__\u001b[0;34m(self, batch)\u001b[0m\n\u001b[1;32m    570\u001b[0m         \u001b[0;31m# Don't delay the application, to avoid keeping the input\u001b[0m\u001b[0;34m\u001b[0m\u001b[0;34m\u001b[0m\u001b[0m\n\u001b[1;32m    571\u001b[0m         \u001b[0;31m# arguments in memory\u001b[0m\u001b[0;34m\u001b[0m\u001b[0;34m\u001b[0m\u001b[0m\n\u001b[0;32m--> 572\u001b[0;31m         \u001b[0mself\u001b[0m\u001b[0;34m.\u001b[0m\u001b[0mresults\u001b[0m \u001b[0;34m=\u001b[0m \u001b[0mbatch\u001b[0m\u001b[0;34m(\u001b[0m\u001b[0;34m)\u001b[0m\u001b[0;34m\u001b[0m\u001b[0;34m\u001b[0m\u001b[0m\n\u001b[0m\u001b[1;32m    573\u001b[0m \u001b[0;34m\u001b[0m\u001b[0m\n\u001b[1;32m    574\u001b[0m     \u001b[0;32mdef\u001b[0m \u001b[0mget\u001b[0m\u001b[0;34m(\u001b[0m\u001b[0mself\u001b[0m\u001b[0;34m)\u001b[0m\u001b[0;34m:\u001b[0m\u001b[0;34m\u001b[0m\u001b[0;34m\u001b[0m\u001b[0m\n",
      "\u001b[0;32m~/opt/anaconda3/lib/python3.9/site-packages/joblib/parallel.py\u001b[0m in \u001b[0;36m__call__\u001b[0;34m(self)\u001b[0m\n\u001b[1;32m    260\u001b[0m         \u001b[0;31m# change the default number of processes to -1\u001b[0m\u001b[0;34m\u001b[0m\u001b[0;34m\u001b[0m\u001b[0m\n\u001b[1;32m    261\u001b[0m         \u001b[0;32mwith\u001b[0m \u001b[0mparallel_backend\u001b[0m\u001b[0;34m(\u001b[0m\u001b[0mself\u001b[0m\u001b[0;34m.\u001b[0m\u001b[0m_backend\u001b[0m\u001b[0;34m,\u001b[0m \u001b[0mn_jobs\u001b[0m\u001b[0;34m=\u001b[0m\u001b[0mself\u001b[0m\u001b[0;34m.\u001b[0m\u001b[0m_n_jobs\u001b[0m\u001b[0;34m)\u001b[0m\u001b[0;34m:\u001b[0m\u001b[0;34m\u001b[0m\u001b[0;34m\u001b[0m\u001b[0m\n\u001b[0;32m--> 262\u001b[0;31m             return [func(*args, **kwargs)\n\u001b[0m\u001b[1;32m    263\u001b[0m                     for func, args, kwargs in self.items]\n\u001b[1;32m    264\u001b[0m \u001b[0;34m\u001b[0m\u001b[0m\n",
      "\u001b[0;32m~/opt/anaconda3/lib/python3.9/site-packages/joblib/parallel.py\u001b[0m in \u001b[0;36m<listcomp>\u001b[0;34m(.0)\u001b[0m\n\u001b[1;32m    260\u001b[0m         \u001b[0;31m# change the default number of processes to -1\u001b[0m\u001b[0;34m\u001b[0m\u001b[0;34m\u001b[0m\u001b[0m\n\u001b[1;32m    261\u001b[0m         \u001b[0;32mwith\u001b[0m \u001b[0mparallel_backend\u001b[0m\u001b[0;34m(\u001b[0m\u001b[0mself\u001b[0m\u001b[0;34m.\u001b[0m\u001b[0m_backend\u001b[0m\u001b[0;34m,\u001b[0m \u001b[0mn_jobs\u001b[0m\u001b[0;34m=\u001b[0m\u001b[0mself\u001b[0m\u001b[0;34m.\u001b[0m\u001b[0m_n_jobs\u001b[0m\u001b[0;34m)\u001b[0m\u001b[0;34m:\u001b[0m\u001b[0;34m\u001b[0m\u001b[0;34m\u001b[0m\u001b[0m\n\u001b[0;32m--> 262\u001b[0;31m             return [func(*args, **kwargs)\n\u001b[0m\u001b[1;32m    263\u001b[0m                     for func, args, kwargs in self.items]\n\u001b[1;32m    264\u001b[0m \u001b[0;34m\u001b[0m\u001b[0m\n",
      "\u001b[0;32m~/opt/anaconda3/lib/python3.9/site-packages/sklearn/utils/fixes.py\u001b[0m in \u001b[0;36m__call__\u001b[0;34m(self, *args, **kwargs)\u001b[0m\n\u001b[1;32m    214\u001b[0m     \u001b[0;32mdef\u001b[0m \u001b[0m__call__\u001b[0m\u001b[0;34m(\u001b[0m\u001b[0mself\u001b[0m\u001b[0;34m,\u001b[0m \u001b[0;34m*\u001b[0m\u001b[0margs\u001b[0m\u001b[0;34m,\u001b[0m \u001b[0;34m**\u001b[0m\u001b[0mkwargs\u001b[0m\u001b[0;34m)\u001b[0m\u001b[0;34m:\u001b[0m\u001b[0;34m\u001b[0m\u001b[0;34m\u001b[0m\u001b[0m\n\u001b[1;32m    215\u001b[0m         \u001b[0;32mwith\u001b[0m \u001b[0mconfig_context\u001b[0m\u001b[0;34m(\u001b[0m\u001b[0;34m**\u001b[0m\u001b[0mself\u001b[0m\u001b[0;34m.\u001b[0m\u001b[0mconfig\u001b[0m\u001b[0;34m)\u001b[0m\u001b[0;34m:\u001b[0m\u001b[0;34m\u001b[0m\u001b[0;34m\u001b[0m\u001b[0m\n\u001b[0;32m--> 216\u001b[0;31m             \u001b[0;32mreturn\u001b[0m \u001b[0mself\u001b[0m\u001b[0;34m.\u001b[0m\u001b[0mfunction\u001b[0m\u001b[0;34m(\u001b[0m\u001b[0;34m*\u001b[0m\u001b[0margs\u001b[0m\u001b[0;34m,\u001b[0m \u001b[0;34m**\u001b[0m\u001b[0mkwargs\u001b[0m\u001b[0;34m)\u001b[0m\u001b[0;34m\u001b[0m\u001b[0;34m\u001b[0m\u001b[0m\n\u001b[0m\u001b[1;32m    217\u001b[0m \u001b[0;34m\u001b[0m\u001b[0m\n\u001b[1;32m    218\u001b[0m \u001b[0;34m\u001b[0m\u001b[0m\n",
      "\u001b[0;32m~/opt/anaconda3/lib/python3.9/site-packages/sklearn/ensemble/_forest.py\u001b[0m in \u001b[0;36m_parallel_build_trees\u001b[0;34m(tree, forest, X, y, sample_weight, tree_idx, n_trees, verbose, class_weight, n_samples_bootstrap)\u001b[0m\n\u001b[1;32m    183\u001b[0m             \u001b[0mcurr_sample_weight\u001b[0m \u001b[0;34m*=\u001b[0m \u001b[0mcompute_sample_weight\u001b[0m\u001b[0;34m(\u001b[0m\u001b[0;34m\"balanced\"\u001b[0m\u001b[0;34m,\u001b[0m \u001b[0my\u001b[0m\u001b[0;34m,\u001b[0m \u001b[0mindices\u001b[0m\u001b[0;34m=\u001b[0m\u001b[0mindices\u001b[0m\u001b[0;34m)\u001b[0m\u001b[0;34m\u001b[0m\u001b[0;34m\u001b[0m\u001b[0m\n\u001b[1;32m    184\u001b[0m \u001b[0;34m\u001b[0m\u001b[0m\n\u001b[0;32m--> 185\u001b[0;31m         \u001b[0mtree\u001b[0m\u001b[0;34m.\u001b[0m\u001b[0mfit\u001b[0m\u001b[0;34m(\u001b[0m\u001b[0mX\u001b[0m\u001b[0;34m,\u001b[0m \u001b[0my\u001b[0m\u001b[0;34m,\u001b[0m \u001b[0msample_weight\u001b[0m\u001b[0;34m=\u001b[0m\u001b[0mcurr_sample_weight\u001b[0m\u001b[0;34m,\u001b[0m \u001b[0mcheck_input\u001b[0m\u001b[0;34m=\u001b[0m\u001b[0;32mFalse\u001b[0m\u001b[0;34m)\u001b[0m\u001b[0;34m\u001b[0m\u001b[0;34m\u001b[0m\u001b[0m\n\u001b[0m\u001b[1;32m    186\u001b[0m     \u001b[0;32melse\u001b[0m\u001b[0;34m:\u001b[0m\u001b[0;34m\u001b[0m\u001b[0;34m\u001b[0m\u001b[0m\n\u001b[1;32m    187\u001b[0m         \u001b[0mtree\u001b[0m\u001b[0;34m.\u001b[0m\u001b[0mfit\u001b[0m\u001b[0;34m(\u001b[0m\u001b[0mX\u001b[0m\u001b[0;34m,\u001b[0m \u001b[0my\u001b[0m\u001b[0;34m,\u001b[0m \u001b[0msample_weight\u001b[0m\u001b[0;34m=\u001b[0m\u001b[0msample_weight\u001b[0m\u001b[0;34m,\u001b[0m \u001b[0mcheck_input\u001b[0m\u001b[0;34m=\u001b[0m\u001b[0;32mFalse\u001b[0m\u001b[0;34m)\u001b[0m\u001b[0;34m\u001b[0m\u001b[0;34m\u001b[0m\u001b[0m\n",
      "\u001b[0;32m~/opt/anaconda3/lib/python3.9/site-packages/sklearn/tree/_classes.py\u001b[0m in \u001b[0;36mfit\u001b[0;34m(self, X, y, sample_weight, check_input, X_idx_sorted)\u001b[0m\n\u001b[1;32m    935\u001b[0m         \"\"\"\n\u001b[1;32m    936\u001b[0m \u001b[0;34m\u001b[0m\u001b[0m\n\u001b[0;32m--> 937\u001b[0;31m         super().fit(\n\u001b[0m\u001b[1;32m    938\u001b[0m             \u001b[0mX\u001b[0m\u001b[0;34m,\u001b[0m\u001b[0;34m\u001b[0m\u001b[0;34m\u001b[0m\u001b[0m\n\u001b[1;32m    939\u001b[0m             \u001b[0my\u001b[0m\u001b[0;34m,\u001b[0m\u001b[0;34m\u001b[0m\u001b[0;34m\u001b[0m\u001b[0m\n",
      "\u001b[0;32m~/opt/anaconda3/lib/python3.9/site-packages/sklearn/tree/_classes.py\u001b[0m in \u001b[0;36mfit\u001b[0;34m(self, X, y, sample_weight, check_input, X_idx_sorted)\u001b[0m\n\u001b[1;32m    418\u001b[0m             )\n\u001b[1;32m    419\u001b[0m \u001b[0;34m\u001b[0m\u001b[0m\n\u001b[0;32m--> 420\u001b[0;31m         \u001b[0mbuilder\u001b[0m\u001b[0;34m.\u001b[0m\u001b[0mbuild\u001b[0m\u001b[0;34m(\u001b[0m\u001b[0mself\u001b[0m\u001b[0;34m.\u001b[0m\u001b[0mtree_\u001b[0m\u001b[0;34m,\u001b[0m \u001b[0mX\u001b[0m\u001b[0;34m,\u001b[0m \u001b[0my\u001b[0m\u001b[0;34m,\u001b[0m \u001b[0msample_weight\u001b[0m\u001b[0;34m)\u001b[0m\u001b[0;34m\u001b[0m\u001b[0;34m\u001b[0m\u001b[0m\n\u001b[0m\u001b[1;32m    421\u001b[0m \u001b[0;34m\u001b[0m\u001b[0m\n\u001b[1;32m    422\u001b[0m         \u001b[0;32mif\u001b[0m \u001b[0mself\u001b[0m\u001b[0;34m.\u001b[0m\u001b[0mn_outputs_\u001b[0m \u001b[0;34m==\u001b[0m \u001b[0;36m1\u001b[0m \u001b[0;32mand\u001b[0m \u001b[0mis_classifier\u001b[0m\u001b[0;34m(\u001b[0m\u001b[0mself\u001b[0m\u001b[0;34m)\u001b[0m\u001b[0;34m:\u001b[0m\u001b[0;34m\u001b[0m\u001b[0;34m\u001b[0m\u001b[0m\n",
      "\u001b[0;31mKeyboardInterrupt\u001b[0m: "
     ]
    }
   ],
   "source": [
    "parameters = {'n_estimators' : range (2, 16, 2), \n",
    "              'max_depth' : range (2, 16, 2), \n",
    "              'min_samples_leaf' : range(2, 16, 2),\n",
    "              'min_samples_split' : range(2, 16, 2)\n",
    "             }\n",
    "\n",
    "grid_forest = GridSearchCV(RandomForestClassifier(random_state=12345), parameters,\\\n",
    "                           scoring='f1', cv = 5)   \n",
    "grid_forest.fit(feature_train, target_train)\n",
    "\n",
    "#grid_forest.best_params_\n",
    "print('f1-score:', grid_forest.best_score_)\n",
    "print(grid_forest.best_params_)"
   ]
  },
  {
   "cell_type": "code",
   "execution_count": 286,
   "metadata": {},
   "outputs": [
    {
     "name": "stdout",
     "output_type": "stream",
     "text": [
      "f1-score: 0.30946446323461557\n",
      "{'max_iter': 90}\n"
     ]
    }
   ],
   "source": [
    "parameter = {'max_iter' : range(90, 200, 5)}\n",
    "\n",
    "grid_LOG = GridSearchCV(LogisticRegression(random_state=12345,solver='liblinear',penalty='l1'), parameter,  scoring='f1', cv = 5)\n",
    "grid_LOG.fit(feature_train, target_train)\n",
    "\n",
    "#grid_forest.best_params_\n",
    "print('f1-score:', grid_LOG.best_score_)\n",
    "print(grid_LOG.best_params_)"
   ]
  },
  {
   "cell_type": "markdown",
   "metadata": {},
   "source": [
    "Улучшим метрики, работая с дисбалансом."
   ]
  },
  {
   "cell_type": "markdown",
   "metadata": {},
   "source": [
    "## Борьба с дисбалансом"
   ]
  },
  {
   "cell_type": "code",
   "execution_count": 287,
   "metadata": {
    "scrolled": true
   },
   "outputs": [
    {
     "name": "stdout",
     "output_type": "stream",
     "text": [
      "0    7963\n",
      "1    2037\n",
      "Name: Exited, dtype: int64\n"
     ]
    },
    {
     "data": {
      "image/png": "[encoded data removed]",
      "text/plain": [
       "<Figure size 640x480 with 1 Axes>"
      ]
     },
     "metadata": {},
     "output_type": "display_data"
    }
   ],
   "source": [
    "class_target = data['Exited'].value_counts()\n",
    "class_target.plot(kind='bar')\n",
    "print(class_target)"
   ]
  },
  {
   "cell_type": "markdown",
   "metadata": {},
   "source": [
    "Класс 0 явно превосхоит класс 1, разница примерно в 4 раза."
   ]
  },
  {
   "cell_type": "markdown",
   "metadata": {},
   "source": [
    "Если указать аргумент `class_weight='balanced'` можно наблюдать прирост качества в обоих метриках."
   ]
  },
  {
   "cell_type": "markdown",
   "metadata": {},
   "source": [
    "Логистическая регрессия."
   ]
  },
  {
   "cell_type": "code",
   "execution_count": 288,
   "metadata": {},
   "outputs": [
    {
     "name": "stdout",
     "output_type": "stream",
     "text": [
      "f1-score: 0.5127238454288408\n",
      "roc-auc-score: 0.7211054391832423\n"
     ]
    }
   ],
   "source": [
    "model = LogisticRegression(random_state=12345, solver='liblinear',penalty='l1', class_weight='balanced')\n",
    "model.fit(feature_train, target_train)\n",
    "predicted_valid = model.predict(feature_valid)\n",
    "print(\"f1-score:\", f1_score(target_valid, predicted_valid))\n",
    "print(\"roc-auc-score:\", roc_auc_score(target_valid, predicted_valid))"
   ]
  },
  {
   "cell_type": "markdown",
   "metadata": {},
   "source": [
    "Случайный лес."
   ]
  },
  {
   "cell_type": "code",
   "execution_count": 289,
   "metadata": {},
   "outputs": [
    {
     "name": "stdout",
     "output_type": "stream",
     "text": [
      "f1-score: 0.6130653266331659\n",
      "roc-auc-score: 0.7635275479669072\n"
     ]
    }
   ],
   "source": [
    "model = RandomForestClassifier(random_state=12345, n_estimators=14, max_depth=12, class_weight='balanced', min_samples_leaf= 4, min_samples_split= 14) \n",
    "model.fit(feature_train, target_train)\n",
    "predicted_valid = model.predict(feature_valid)\n",
    "print(\"f1-score:\", f1_score(target_valid, predicted_valid))\n",
    "print(\"roc-auc-score:\", roc_auc_score(target_valid, predicted_valid))"
   ]
  },
  {
   "cell_type": "markdown",
   "metadata": {},
   "source": [
    "В случае логистической регрессии прирост качества наблюдается значительный, но модель случайного леса все же превосходит ее по качеству."
   ]
  },
  {
   "cell_type": "markdown",
   "metadata": {},
   "source": [
    "Увеличение выборки. Upsampling."
   ]
  },
  {
   "cell_type": "markdown",
   "metadata": {},
   "source": [
    "Необходимо: \n",
    "\n",
    "- Разделить обучающую выборку на отрицательные и положительные объекты;\n",
    "- Скопировать несколько раз положительные объекты;\n",
    "- С учётом полученных данных создать новую обучающую выборку;\n",
    "- Перемешать данные: идущие друг за другом одинаковые вопросы не помогут обучению."
   ]
  },
  {
   "cell_type": "markdown",
   "metadata": {},
   "source": [
    "Все вышеперечисленные шаги выполняет функция `upsample`."
   ]
  },
  {
   "cell_type": "code",
   "execution_count": 291,
   "metadata": {},
   "outputs": [],
   "source": [
    "def upsample(feature, target, repeat):\n",
    "    feature_zeros = feature[target == 0]\n",
    "    feature_ones = feature[target == 1]\n",
    "    target_zeros = target[target == 0]\n",
    "    target_ones = target[target == 1]\n",
    "    \n",
    "    feature_upsample = pd.concat([feature_zeros] + [feature_ones] * repeat)\n",
    "    target_upsample  = pd.concat([target_zeros] + [target_ones] * repeat)\n",
    "    feature_upsample, target_upsample = shuffle(feature_upsample, target_upsample, random_state = 12345)\n",
    "    \n",
    "    return feature_upsample, target_upsample\n",
    "\n",
    "feature_upsample, target_upsample = upsample(feature_train , target_train, 5)\n",
    "\n",
    "#print(feature_upsample.shape)\n",
    "#print(target_upsample.shape)"
   ]
  },
  {
   "cell_type": "markdown",
   "metadata": {},
   "source": [
    "Обучим модели на расширенной выборке."
   ]
  },
  {
   "cell_type": "markdown",
   "metadata": {},
   "source": [
    "Логистическая регрессия."
   ]
  },
  {
   "cell_type": "code",
   "execution_count": 292,
   "metadata": {},
   "outputs": [
    {
     "name": "stdout",
     "output_type": "stream",
     "text": [
      "f1-score: 0.5122410546139359\n",
      "roc-auc-score: 0.7950378454497448\n"
     ]
    }
   ],
   "source": [
    "model = LogisticRegression(random_state=12345, solver='liblinear',penalty='l1',class_weight='balanced')\n",
    "model.fit(feature_upsample, target_upsample)\n",
    "predicted_valid = model.predict(feature_valid)\n",
    "\n",
    "print(\"f1-score:\", f1_score(target_valid, predicted_valid))\n",
    "print(\"roc-auc-score:\" , roc_auc_score(target_valid, model.predict_proba(feature_valid)[:, 1]))\n"
   ]
  },
  {
   "cell_type": "markdown",
   "metadata": {},
   "source": [
    "Случайный лес."
   ]
  },
  {
   "cell_type": "code",
   "execution_count": 293,
   "metadata": {},
   "outputs": [
    {
     "name": "stdout",
     "output_type": "stream",
     "text": [
      "f1-score: 0.6232227488151658\n",
      "roc-auc-score: 0.8594552015490231\n"
     ]
    }
   ],
   "source": [
    "model = RandomForestClassifier(random_state=12345, n_estimators=14, max_depth=12, class_weight='balanced', min_samples_leaf= 4, min_samples_split= 14)\n",
    "model.fit(feature_upsample, target_upsample)\n",
    "predicted_valid = model.predict(feature_valid)\n",
    "print(\"f1-score:\", f1_score(target_valid, predicted_valid))\n",
    "print(\"roc-auc-score:\" , roc_auc_score(target_valid, model.predict_proba(feature_valid)[:, 1]))"
   ]
  },
  {
   "cell_type": "markdown",
   "metadata": {},
   "source": [
    "<div class=\"alert alert-block alert-success\">\n",
    "<b>Комментарий студента:</b> Обучим модель CatBoostClassifier, используя увеличенную выборку.\n",
    "</div>"
   ]
  },
  {
   "cell_type": "markdown",
   "metadata": {},
   "source": [
    "CatBoostClassifier"
   ]
  },
  {
   "cell_type": "code",
   "execution_count": 294,
   "metadata": {},
   "outputs": [
    {
     "name": "stdout",
     "output_type": "stream",
     "text": [
      "f1-score: 0.6022610483042137\n",
      "roc-auc-score: 0.8553617320894209\n"
     ]
    }
   ],
   "source": [
    "model_cat = CatBoostClassifier(random_state=12345, silent=True)\n",
    "model_cat.fit(feature_train_scaled, target_upsample)\n",
    "predicted_valid = model_cat.predict(feature_valid_scaled)\n",
    "print(\"f1-score:\", f1_score(target_valid, predicted_valid))\n",
    "print(\"roc-auc-score:\" , roc_auc_score(target_valid, model_cat.predict_proba(feature_valid_scaled)[:, 1]))"
   ]
  },
  {
   "cell_type": "markdown",
   "metadata": {},
   "source": [
    "Еще один прием - это сократить выборку. Посмотрим как сработает он."
   ]
  },
  {
   "cell_type": "markdown",
   "metadata": {},
   "source": [
    "Уменьшение выборки. Downsampling."
   ]
  },
  {
   "cell_type": "markdown",
   "metadata": {},
   "source": [
    "Функция downsample выполняет:\n",
    "- Разделяет обучающую выборку на отрицательные и положительные объекты;\n",
    "- Случайным образом отбрасывает часть из отрицательных объектов;\n",
    "- С учётом полученных данных создает новую обучающую выборку;\n",
    "- Перемешивает данные. Положительные не должны идти следом за отрицательными: алгоритмам будет сложнее обучаться."
   ]
  },
  {
   "cell_type": "code",
   "execution_count": 295,
   "metadata": {},
   "outputs": [],
   "source": [
    "def downsample(feature, target, fraction):\n",
    "    feature_zeros = feature[target == 0]\n",
    "    feature_ones = feature[target == 1]\n",
    "    target_zeros = target[target == 0]\n",
    "    target_ones = target[target == 1]\n",
    "\n",
    "    feature_downsample = pd.concat([feature_zeros.sample(frac=fraction, random_state=12345)] + [feature_ones])\n",
    "    target_downsample = pd.concat([target_zeros.sample(frac=fraction, random_state=12345)] + [target_ones])\n",
    "    \n",
    "    feature_downsample, target_downsample = shuffle(feature_downsample, target_downsample, random_state=12345)\n",
    "    \n",
    "    return feature_downsample, target_downsample\n",
    "\n",
    "feature_downsample, target_downsample = downsample(feature_train, target_train, 0.5)\n",
    "\n",
    "#print(feature_downsample.shape)\n",
    "#print(target_downsample.shape)"
   ]
  },
  {
   "cell_type": "code",
   "execution_count": 296,
   "metadata": {},
   "outputs": [
    {
     "name": "stdout",
     "output_type": "stream",
     "text": [
      "f1-score: 0.5121495327102804\n",
      "roc-auc-score: 0.794198204541454\n"
     ]
    }
   ],
   "source": [
    "model = LogisticRegression(random_state=12345, solver='liblinear',penalty='l1',class_weight='balanced')\n",
    "model.fit(feature_downsample, target_downsample)\n",
    "predicted_valid = model.predict(feature_valid)\n",
    "\n",
    "print(\"f1-score:\", f1_score(target_valid, predicted_valid))\n",
    "print(\"roc-auc-score:\" , roc_auc_score(target_valid, model.predict_proba(feature_valid)[:, 1]))"
   ]
  },
  {
   "cell_type": "code",
   "execution_count": 297,
   "metadata": {},
   "outputs": [
    {
     "name": "stdout",
     "output_type": "stream",
     "text": [
      "f1-score: 0.6006749156355455\n",
      "roc-auc-score: 0.8614636507657103\n"
     ]
    }
   ],
   "source": [
    "model = RandomForestClassifier(random_state=12345, n_estimators=14, max_depth=12, class_weight='balanced', min_samples_leaf= 4, min_samples_split= 14)\n",
    "model.fit(feature_downsample, target_downsample)\n",
    "predicted_valid = model.predict(feature_valid)\n",
    "print(\"f1-score:\", f1_score(target_valid, predicted_valid))\n",
    "print(\"roc-auc-score:\" , roc_auc_score(target_valid, model.predict_proba(feature_valid)[:, 1]))"
   ]
  },
  {
   "cell_type": "markdown",
   "metadata": {},
   "source": [
    "Метод upsampling показал лучший результат на модели случайного леса."
   ]
  },
  {
   "cell_type": "markdown",
   "metadata": {},
   "source": [
    "Посмотрим на результаты, изменяя порог классификации и обучая модель на увеличенной выборке."
   ]
  },
  {
   "cell_type": "code",
   "execution_count": 298,
   "metadata": {},
   "outputs": [
    {
     "name": "stdout",
     "output_type": "stream",
     "text": [
      "threshold = 0.00 | roc-auc-score = 0.795 | f1-score = 0.337\n",
      "threshold = 0.05 | roc-auc-score = 0.795 | f1-score = 0.337\n",
      "threshold = 0.10 | roc-auc-score = 0.795 | f1-score = 0.341\n",
      "threshold = 0.15 | roc-auc-score = 0.795 | f1-score = 0.354\n",
      "threshold = 0.20 | roc-auc-score = 0.795 | f1-score = 0.374\n",
      "threshold = 0.25 | roc-auc-score = 0.795 | f1-score = 0.397\n",
      "threshold = 0.30 | roc-auc-score = 0.795 | f1-score = 0.431\n",
      "threshold = 0.35 | roc-auc-score = 0.795 | f1-score = 0.450\n",
      "threshold = 0.40 | roc-auc-score = 0.795 | f1-score = 0.472\n",
      "threshold = 0.45 | roc-auc-score = 0.795 | f1-score = 0.502\n",
      "threshold = 0.50 | roc-auc-score = 0.795 | f1-score = 0.512\n",
      "threshold = 0.55 | roc-auc-score = 0.795 | f1-score = 0.519\n",
      "threshold = 0.60 | roc-auc-score = 0.795 | f1-score = 0.507\n",
      "threshold = 0.65 | roc-auc-score = 0.795 | f1-score = 0.508\n",
      "threshold = 0.70 | roc-auc-score = 0.795 | f1-score = 0.447\n",
      "threshold = 0.75 | roc-auc-score = 0.795 | f1-score = 0.401\n",
      "threshold = 0.80 | roc-auc-score = 0.795 | f1-score = 0.331\n",
      "threshold = 0.85 | roc-auc-score = 0.795 | f1-score = 0.218\n",
      "threshold = 0.90 | roc-auc-score = 0.795 | f1-score = 0.094\n"
     ]
    }
   ],
   "source": [
    "model = LogisticRegression(random_state=12345, solver='liblinear',penalty='l1',class_weight='balanced')\n",
    "model.fit(feature_upsample, target_upsample)\n",
    "probabilities_valid = model.predict_proba(feature_valid) \n",
    "probabilities_one_valid = probabilities_valid[:, 1]\n",
    "\n",
    "for threshold in np.arange(0, 0.95, 0.05):\n",
    "    predicted_valid = probabilities_one_valid > threshold\n",
    "    roc_auc = roc_auc_score(target_valid,  model.predict_proba(feature_valid)[:, 1])\n",
    "    f1 = f1_score(target_valid, predicted_valid)\n",
    "    print(\"threshold = {:.2f} | roc-auc-score = {:.3f} | f1-score = {:.3f}\".format(\n",
    "        threshold, roc_auc, f1))\n",
    "#0.60"
   ]
  },
  {
   "cell_type": "code",
   "execution_count": 299,
   "metadata": {
    "scrolled": false
   },
   "outputs": [
    {
     "name": "stdout",
     "output_type": "stream",
     "text": [
      "threshold = 0.00 | roc-auc-score = 0.859 | f1-score = 0.337\n",
      "0.3370288248337029\n",
      "threshold = 0.05 | roc-auc-score = 0.859 | f1-score = 0.354\n",
      "0.353601496725912\n",
      "threshold = 0.10 | roc-auc-score = 0.859 | f1-score = 0.383\n",
      "0.38256410256410256\n",
      "threshold = 0.15 | roc-auc-score = 0.859 | f1-score = 0.418\n",
      "0.41818181818181815\n",
      "threshold = 0.20 | roc-auc-score = 0.859 | f1-score = 0.451\n",
      "0.4506329113924051\n",
      "threshold = 0.25 | roc-auc-score = 0.859 | f1-score = 0.485\n",
      "0.4848056537102474\n",
      "threshold = 0.30 | roc-auc-score = 0.859 | f1-score = 0.529\n",
      "0.5288994457640538\n",
      "threshold = 0.35 | roc-auc-score = 0.859 | f1-score = 0.563\n",
      "0.5633802816901409\n",
      "threshold = 0.40 | roc-auc-score = 0.859 | f1-score = 0.586\n",
      "0.5857988165680473\n",
      "threshold = 0.45 | roc-auc-score = 0.859 | f1-score = 0.616\n",
      "0.61588683351469\n",
      "threshold = 0.50 | roc-auc-score = 0.859 | f1-score = 0.623\n",
      "0.6232227488151658\n",
      "threshold = 0.55 | roc-auc-score = 0.859 | f1-score = 0.623\n",
      "threshold = 0.60 | roc-auc-score = 0.859 | f1-score = 0.617\n",
      "threshold = 0.65 | roc-auc-score = 0.859 | f1-score = 0.588\n",
      "threshold = 0.70 | roc-auc-score = 0.859 | f1-score = 0.563\n",
      "threshold = 0.75 | roc-auc-score = 0.859 | f1-score = 0.526\n",
      "threshold = 0.80 | roc-auc-score = 0.859 | f1-score = 0.459\n",
      "threshold = 0.85 | roc-auc-score = 0.859 | f1-score = 0.395\n",
      "threshold = 0.90 | roc-auc-score = 0.859 | f1-score = 0.263\n"
     ]
    }
   ],
   "source": [
    "best_model = None\n",
    "best_score = 0\n",
    "\n",
    "model = RandomForestClassifier(random_state=12345, n_estimators=14, max_depth=12, class_weight='balanced', min_samples_leaf= 4, min_samples_split= 14)\n",
    "model.fit(feature_upsample, target_upsample)\n",
    "probabilities_valid = model.predict_proba(feature_valid) \n",
    "probabilities_one_valid = probabilities_valid[:, 1]\n",
    "\n",
    "for threshold in np.arange(0, 0.95, 0.05):  \n",
    "    predicted_valid = probabilities_one_valid > threshold\n",
    "    roc_auc = roc_auc_score(target_valid, model.predict_proba(feature_valid)[:, 1])\n",
    "    f1 = f1_score(target_valid, predicted_valid)\n",
    "    print(\"threshold = {:.2f} | roc-auc-score = {:.3f} | f1-score = {:.3f}\".format(\n",
    "        threshold, roc_auc, f1))\n",
    "    if f1 > best_score:\n",
    "        best_score = f1\n",
    "        best_model = model\n",
    "        print(best_score)\n",
    "#0.55        "
   ]
  },
  {
   "cell_type": "markdown",
   "metadata": {},
   "source": [
    "Наивысшая оценка получается при обучении модели случайного леса на увеличенной выборке с порогом классификации 0.50."
   ]
  },
  {
   "cell_type": "markdown",
   "metadata": {},
   "source": [
    "## Тестирование модели"
   ]
  },
  {
   "cell_type": "code",
   "execution_count": 300,
   "metadata": {},
   "outputs": [
    {
     "name": "stdout",
     "output_type": "stream",
     "text": [
      "f1-score: 0.6423611111111112\n",
      "roc-auc-score: 0.8544738531782834\n"
     ]
    }
   ],
   "source": [
    "predict = best_model.predict(feature_test)\n",
    "print('f1-score:', f1_score(target_test, predict))\n",
    "print(\"roc-auc-score:\" , roc_auc_score(target_test, model.predict_proba(feature_test)[:, 1]))"
   ]
  },
  {
   "cell_type": "code",
   "execution_count": 301,
   "metadata": {},
   "outputs": [
    {
     "data": {
      "image/png": "[encoded data removed]",
      "text/plain": [
       "<Figure size 640x480 with 1 Axes>"
      ]
     },
     "metadata": {},
     "output_type": "display_data"
    }
   ],
   "source": [
    "fpr, tpr, thresholds = roc_curve(target_test, model.predict_proba(feature_test)[:, 1])\n",
    "\n",
    "plt.figure()\n",
    "plt.plot(fpr, tpr)\n",
    "plt.plot([0,1],[0,1], linestyle= '--')\n",
    "plt.xlim([0.0, 1.0])\n",
    "plt.ylim([0.0, 1.0])\n",
    "plt.xlabel('False Positive Rate')\n",
    "plt.ylabel('True Positive Rate')\n",
    "plt.title('ROC-кривая')\n",
    "plt.show()"
   ]
  },
  {
   "cell_type": "markdown",
   "metadata": {},
   "source": [
    "Можно заметить, что оценка roc-auc-score показывает несколько более оптимистичную картину f1-score, это следует из ее построения и несбалансированности данных. Особенно это видно на первом этапе, когда модель обучалась на исходных данных, оценка на модели случайного леса достигла 0.79. То есть из-за большого количества истинно-отрицательных ответов доля ложноположительных ответов уменьшается, график смещается влево."
   ]
  },
  {
   "cell_type": "markdown",
   "metadata": {},
   "source": [
    "Итак, целью проекта было построить модель с предельно большим значением F1-меры. Итоговая оценка точности достигла 0.65. \n",
    "В ходе работы сравнивались различные методы для работы с дисбалансом классов. В данном проекте лучше всего себя показал метод увеличения выборки. На этапе предработки данных были устранены пропуски, категориальные данные преобразованы методом One-Hot-Encoding. В качестве моделей для обучения были выбраны логистическая регрессия и случайный лес и catboost. Последняя показала лучший результат с f1-мерой 0.64.\n"
   ]
  },
  {
   "cell_type": "code",
   "execution_count": null,
   "metadata": {},
   "outputs": [],
   "source": []
  }
 ],
 "metadata": {
  "ExecuteTimeLog": [
   {
    "duration": 921,
    "start_time": "2022-01-25T12:39:12.758Z"
   },
   {
    "duration": 35,
    "start_time": "2022-01-25T12:40:05.053Z"
   },
   {
    "duration": 33,
    "start_time": "2022-01-25T12:40:32.745Z"
   },
   {
    "duration": 39,
    "start_time": "2022-01-25T12:40:50.753Z"
   },
   {
    "duration": 36,
    "start_time": "2022-01-25T12:41:07.734Z"
   },
   {
    "duration": 35,
    "start_time": "2022-01-25T12:41:18.174Z"
   },
   {
    "duration": 2181,
    "start_time": "2022-01-25T12:59:55.541Z"
   },
   {
    "duration": 36,
    "start_time": "2022-01-25T13:00:02.223Z"
   },
   {
    "duration": 44,
    "start_time": "2022-01-25T13:08:07.564Z"
   },
   {
    "duration": 42,
    "start_time": "2022-01-25T13:08:31.496Z"
   },
   {
    "duration": 36,
    "start_time": "2022-01-25T13:08:45.366Z"
   },
   {
    "duration": 42,
    "start_time": "2022-01-25T13:08:55.365Z"
   },
   {
    "duration": 762,
    "start_time": "2022-01-27T07:50:18.601Z"
   },
   {
    "duration": 39,
    "start_time": "2022-01-27T07:50:28.317Z"
   },
   {
    "duration": 19,
    "start_time": "2022-01-27T08:04:01.723Z"
   },
   {
    "duration": 37,
    "start_time": "2022-01-27T08:09:54.765Z"
   },
   {
    "duration": 4,
    "start_time": "2022-01-27T08:19:30.701Z"
   },
   {
    "duration": 7,
    "start_time": "2022-01-27T08:19:43.958Z"
   },
   {
    "duration": 7,
    "start_time": "2022-01-27T08:20:34.128Z"
   },
   {
    "duration": 31,
    "start_time": "2022-01-27T08:37:11.589Z"
   },
   {
    "duration": 33,
    "start_time": "2022-01-27T08:37:22.103Z"
   },
   {
    "duration": 24,
    "start_time": "2022-01-27T08:37:48.011Z"
   },
   {
    "duration": 29,
    "start_time": "2022-01-27T08:38:01.474Z"
   },
   {
    "duration": 15,
    "start_time": "2022-01-27T08:40:40.081Z"
   },
   {
    "duration": 371,
    "start_time": "2022-01-27T09:02:09.540Z"
   },
   {
    "duration": 608,
    "start_time": "2022-01-27T09:02:27.186Z"
   },
   {
    "duration": 28,
    "start_time": "2022-01-27T09:02:31.672Z"
   },
   {
    "duration": 20,
    "start_time": "2022-01-27T09:02:35.868Z"
   },
   {
    "duration": 36,
    "start_time": "2022-01-27T09:02:39.890Z"
   },
   {
    "duration": 6,
    "start_time": "2022-01-27T09:02:43.725Z"
   },
   {
    "duration": 28,
    "start_time": "2022-01-27T09:02:45.935Z"
   },
   {
    "duration": 16,
    "start_time": "2022-01-27T09:02:50.022Z"
   },
   {
    "duration": 330,
    "start_time": "2022-01-27T09:02:53.073Z"
   },
   {
    "duration": 308,
    "start_time": "2022-01-27T09:03:35.400Z"
   },
   {
    "duration": 33,
    "start_time": "2022-01-27T09:03:48.504Z"
   },
   {
    "duration": 30,
    "start_time": "2022-01-27T09:03:52.432Z"
   },
   {
    "duration": 20,
    "start_time": "2022-01-27T09:03:56.475Z"
   },
   {
    "duration": 34,
    "start_time": "2022-01-27T09:03:59.631Z"
   },
   {
    "duration": 7,
    "start_time": "2022-01-27T09:04:02.653Z"
   },
   {
    "duration": 31,
    "start_time": "2022-01-27T09:04:04.691Z"
   },
   {
    "duration": 17,
    "start_time": "2022-01-27T09:04:09.013Z"
   },
   {
    "duration": 336,
    "start_time": "2022-01-27T09:04:11.686Z"
   },
   {
    "duration": 1414,
    "start_time": "2022-01-27T12:28:15.224Z"
   },
   {
    "duration": 40,
    "start_time": "2022-01-27T12:28:19.216Z"
   },
   {
    "duration": 22,
    "start_time": "2022-01-27T12:28:38.973Z"
   },
   {
    "duration": 39,
    "start_time": "2022-01-27T12:28:43.720Z"
   },
   {
    "duration": 7,
    "start_time": "2022-01-27T12:28:49.956Z"
   },
   {
    "duration": 32,
    "start_time": "2022-01-27T12:28:53.060Z"
   },
   {
    "duration": 17,
    "start_time": "2022-01-27T12:28:57.110Z"
   },
   {
    "duration": 522,
    "start_time": "2022-01-27T12:29:02.498Z"
   },
   {
    "duration": 323,
    "start_time": "2022-01-27T12:49:58.701Z"
   },
   {
    "duration": 35,
    "start_time": "2022-01-27T12:51:27.300Z"
   },
   {
    "duration": 28,
    "start_time": "2022-01-27T12:51:30.371Z"
   },
   {
    "duration": 20,
    "start_time": "2022-01-27T12:51:34.887Z"
   },
   {
    "duration": 33,
    "start_time": "2022-01-27T12:52:15.796Z"
   },
   {
    "duration": 6,
    "start_time": "2022-01-27T12:52:20.173Z"
   },
   {
    "duration": 30,
    "start_time": "2022-01-27T12:52:23.353Z"
   },
   {
    "duration": 16,
    "start_time": "2022-01-27T12:52:29.499Z"
   },
   {
    "duration": 43,
    "start_time": "2022-01-27T12:52:32.947Z"
   },
   {
    "duration": 419,
    "start_time": "2022-01-27T12:54:29.718Z"
   },
   {
    "duration": 506,
    "start_time": "2022-01-27T12:54:49.960Z"
   },
   {
    "duration": 34,
    "start_time": "2022-01-27T12:54:56.528Z"
   },
   {
    "duration": 29,
    "start_time": "2022-01-27T12:54:59.415Z"
   },
   {
    "duration": 20,
    "start_time": "2022-01-27T12:55:02.687Z"
   },
   {
    "duration": 33,
    "start_time": "2022-01-27T12:55:04.193Z"
   },
   {
    "duration": 6,
    "start_time": "2022-01-27T12:55:05.832Z"
   },
   {
    "duration": 27,
    "start_time": "2022-01-27T12:55:07.751Z"
   },
   {
    "duration": 15,
    "start_time": "2022-01-27T12:55:09.425Z"
   },
   {
    "duration": 43,
    "start_time": "2022-01-27T12:55:12.227Z"
   },
   {
    "duration": 52,
    "start_time": "2022-01-27T12:55:13.617Z"
   },
   {
    "duration": 4178,
    "start_time": "2022-01-27T13:13:09.499Z"
   },
   {
    "duration": 9966,
    "start_time": "2022-01-27T13:14:29.274Z"
   },
   {
    "duration": 8562,
    "start_time": "2022-01-27T13:17:33.124Z"
   },
   {
    "duration": 8393,
    "start_time": "2022-01-27T13:18:39.536Z"
   },
   {
    "duration": 236,
    "start_time": "2022-01-27T13:19:15.738Z"
   },
   {
    "duration": 2158,
    "start_time": "2022-01-28T06:26:07.993Z"
   },
   {
    "duration": 41,
    "start_time": "2022-01-28T06:26:11.675Z"
   },
   {
    "duration": 26,
    "start_time": "2022-01-28T06:26:14.093Z"
   },
   {
    "duration": 60,
    "start_time": "2022-01-28T06:26:16.270Z"
   },
   {
    "duration": 7,
    "start_time": "2022-01-28T06:26:18.867Z"
   },
   {
    "duration": 33,
    "start_time": "2022-01-28T06:26:20.301Z"
   },
   {
    "duration": 16,
    "start_time": "2022-01-28T06:26:23.763Z"
   },
   {
    "duration": 769,
    "start_time": "2022-01-28T06:26:34.556Z"
   },
   {
    "duration": 55,
    "start_time": "2022-01-28T06:26:44.817Z"
   },
   {
    "duration": 168,
    "start_time": "2022-01-28T06:26:53.564Z"
   },
   {
    "duration": 61,
    "start_time": "2022-01-28T06:27:48.074Z"
   },
   {
    "duration": 187,
    "start_time": "2022-01-28T06:28:05.749Z"
   },
   {
    "duration": 801,
    "start_time": "2022-01-28T06:28:25.431Z"
   },
   {
    "duration": 335,
    "start_time": "2022-01-28T06:28:43.687Z"
   },
   {
    "duration": 306,
    "start_time": "2022-01-28T06:30:49.119Z"
   },
   {
    "duration": 290,
    "start_time": "2022-01-28T06:31:58.268Z"
   },
   {
    "duration": 245,
    "start_time": "2022-01-28T06:32:11.698Z"
   },
   {
    "duration": 992,
    "start_time": "2022-01-28T06:33:21.056Z"
   },
   {
    "duration": 229,
    "start_time": "2022-01-28T06:33:46.445Z"
   },
   {
    "duration": 253,
    "start_time": "2022-01-28T06:34:00.896Z"
   },
   {
    "duration": 245,
    "start_time": "2022-01-28T06:34:10.749Z"
   },
   {
    "duration": 85,
    "start_time": "2022-01-28T06:34:18.850Z"
   },
   {
    "duration": 144,
    "start_time": "2022-01-28T06:34:24.390Z"
   },
   {
    "duration": 253,
    "start_time": "2022-01-28T06:34:34.622Z"
   },
   {
    "duration": 7,
    "start_time": "2022-01-28T06:36:59.527Z"
   },
   {
    "duration": 7,
    "start_time": "2022-01-28T06:39:42.098Z"
   },
   {
    "duration": 9,
    "start_time": "2022-01-28T06:40:10.376Z"
   },
   {
    "duration": 862,
    "start_time": "2022-01-28T06:57:27.211Z"
   },
   {
    "duration": 259,
    "start_time": "2022-01-28T06:57:43.621Z"
   },
   {
    "duration": 320,
    "start_time": "2022-01-28T06:58:01.257Z"
   },
   {
    "duration": 6449,
    "start_time": "2022-01-28T07:05:11.480Z"
   },
   {
    "duration": 9302,
    "start_time": "2022-01-28T07:07:04.474Z"
   },
   {
    "duration": 11050,
    "start_time": "2022-01-28T07:07:21.620Z"
   },
   {
    "duration": 14993,
    "start_time": "2022-01-28T07:09:17.407Z"
   },
   {
    "duration": 24470,
    "start_time": "2022-01-28T07:10:06.592Z"
   },
   {
    "duration": 320,
    "start_time": "2022-01-28T07:28:13.771Z"
   },
   {
    "duration": 531,
    "start_time": "2022-01-28T07:29:13.737Z"
   },
   {
    "duration": 5,
    "start_time": "2022-01-28T07:29:44.952Z"
   },
   {
    "duration": 439,
    "start_time": "2022-01-28T07:29:50.986Z"
   },
   {
    "duration": 32,
    "start_time": "2022-01-28T07:30:17.220Z"
   },
   {
    "duration": 62422,
    "start_time": "2022-01-28T07:32:01.412Z"
   },
   {
    "duration": 489,
    "start_time": "2022-01-28T07:34:30.851Z"
   },
   {
    "duration": 506,
    "start_time": "2022-01-28T07:38:36.223Z"
   },
   {
    "duration": 5,
    "start_time": "2022-01-28T07:40:04.534Z"
   },
   {
    "duration": 59,
    "start_time": "2022-01-28T07:40:07.124Z"
   },
   {
    "duration": 22,
    "start_time": "2022-01-28T07:40:10.755Z"
   },
   {
    "duration": 34,
    "start_time": "2022-01-28T07:40:13.542Z"
   },
   {
    "duration": 7,
    "start_time": "2022-01-28T07:40:16.624Z"
   },
   {
    "duration": 31,
    "start_time": "2022-01-28T07:40:19.086Z"
   },
   {
    "duration": 15,
    "start_time": "2022-01-28T07:40:22.531Z"
   },
   {
    "duration": 51,
    "start_time": "2022-01-28T07:40:26.383Z"
   },
   {
    "duration": 284,
    "start_time": "2022-01-28T07:40:28.851Z"
   },
   {
    "duration": 10,
    "start_time": "2022-01-28T07:40:31.282Z"
   },
   {
    "duration": 244,
    "start_time": "2022-01-28T07:40:32.893Z"
   },
   {
    "duration": 329,
    "start_time": "2022-01-28T07:40:37.284Z"
   },
   {
    "duration": 25516,
    "start_time": "2022-01-28T07:40:38.742Z"
   },
   {
    "duration": 40,
    "start_time": "2022-01-28T07:41:04.261Z"
   },
   {
    "duration": 59215,
    "start_time": "2022-01-28T07:42:02.311Z"
   },
   {
    "duration": 608,
    "start_time": "2022-01-28T07:43:05.855Z"
   },
   {
    "duration": 521,
    "start_time": "2022-01-28T07:43:11.476Z"
   },
   {
    "duration": 20,
    "start_time": "2022-01-28T07:45:48.598Z"
   },
   {
    "duration": 6344,
    "start_time": "2022-01-28T07:46:23.110Z"
   },
   {
    "duration": 482,
    "start_time": "2022-01-28T07:46:37.436Z"
   },
   {
    "duration": 117,
    "start_time": "2022-01-28T07:47:31.080Z"
   },
   {
    "duration": 24067,
    "start_time": "2022-01-28T07:55:31.356Z"
   },
   {
    "duration": 5,
    "start_time": "2022-01-28T07:56:08.859Z"
   },
   {
    "duration": 6,
    "start_time": "2022-01-28T07:56:33.308Z"
   },
   {
    "duration": 25044,
    "start_time": "2022-01-28T07:56:40.283Z"
   },
   {
    "duration": 6,
    "start_time": "2022-01-28T07:58:04.731Z"
   },
   {
    "duration": 24631,
    "start_time": "2022-01-28T07:58:13.640Z"
   },
   {
    "duration": 6,
    "start_time": "2022-01-28T07:59:19.861Z"
   },
   {
    "duration": 26596,
    "start_time": "2022-01-28T07:59:26.663Z"
   },
   {
    "duration": 7189,
    "start_time": "2022-01-28T08:04:14.080Z"
   },
   {
    "duration": 1144,
    "start_time": "2022-01-28T08:06:01.996Z"
   },
   {
    "duration": 1054,
    "start_time": "2022-01-28T08:21:12.032Z"
   },
   {
    "duration": 27,
    "start_time": "2022-01-28T08:23:12.851Z"
   },
   {
    "duration": 1517,
    "start_time": "2022-01-28T08:30:13.125Z"
   },
   {
    "duration": 28,
    "start_time": "2022-01-28T08:30:25.833Z"
   },
   {
    "duration": 630,
    "start_time": "2022-01-28T08:32:20.616Z"
   },
   {
    "duration": 342,
    "start_time": "2022-01-28T08:33:42.466Z"
   },
   {
    "duration": 24,
    "start_time": "2022-01-28T08:33:51.306Z"
   },
   {
    "duration": 27,
    "start_time": "2022-01-28T08:35:12.922Z"
   },
   {
    "duration": 289,
    "start_time": "2022-01-28T08:39:36.859Z"
   },
   {
    "duration": 33,
    "start_time": "2022-01-28T08:39:56.501Z"
   },
   {
    "duration": 27,
    "start_time": "2022-01-28T08:40:18.919Z"
   },
   {
    "duration": 293,
    "start_time": "2022-01-28T08:42:05.306Z"
   },
   {
    "duration": 137,
    "start_time": "2022-01-29T08:38:33.764Z"
   },
   {
    "duration": 1784,
    "start_time": "2022-01-29T08:42:11.785Z"
   },
   {
    "duration": 106,
    "start_time": "2022-01-29T08:42:18.713Z"
   },
   {
    "duration": 39,
    "start_time": "2022-01-29T08:42:26.095Z"
   },
   {
    "duration": 59,
    "start_time": "2022-01-29T08:42:30.097Z"
   },
   {
    "duration": 8,
    "start_time": "2022-01-29T08:42:33.005Z"
   },
   {
    "duration": 55,
    "start_time": "2022-01-29T08:42:36.001Z"
   },
   {
    "duration": 15,
    "start_time": "2022-01-29T08:42:39.096Z"
   },
   {
    "duration": 65,
    "start_time": "2022-01-29T08:42:42.570Z"
   },
   {
    "duration": 15,
    "start_time": "2022-01-29T08:42:45.868Z"
   },
   {
    "duration": 10,
    "start_time": "2022-01-29T08:42:48.359Z"
   },
   {
    "duration": 162,
    "start_time": "2022-01-29T08:42:51.274Z"
   },
   {
    "duration": 269,
    "start_time": "2022-01-29T08:42:54.838Z"
   },
   {
    "duration": 150,
    "start_time": "2022-01-29T08:53:37.324Z"
   },
   {
    "duration": 228,
    "start_time": "2022-01-29T09:00:56.560Z"
   },
   {
    "duration": 323,
    "start_time": "2022-01-29T09:01:10.616Z"
   },
   {
    "duration": 224,
    "start_time": "2022-01-29T09:04:06.742Z"
   },
   {
    "duration": 27432,
    "start_time": "2022-01-29T09:07:29.593Z"
   },
   {
    "duration": 29826,
    "start_time": "2022-01-29T09:08:57.416Z"
   },
   {
    "duration": 30448,
    "start_time": "2022-01-29T09:09:59.783Z"
   },
   {
    "duration": 261,
    "start_time": "2022-01-29T09:10:35.140Z"
   },
   {
    "duration": 40,
    "start_time": "2022-01-29T09:16:18.267Z"
   },
   {
    "duration": 63626,
    "start_time": "2022-01-29T09:17:50.100Z"
   },
   {
    "duration": 532,
    "start_time": "2022-01-29T09:21:36.986Z"
   },
   {
    "duration": 4374,
    "start_time": "2022-01-29T09:22:30.354Z"
   },
   {
    "duration": 64549,
    "start_time": "2022-01-29T09:22:45.492Z"
   },
   {
    "duration": 4255,
    "start_time": "2022-01-29T09:24:11.769Z"
   },
   {
    "duration": 3971,
    "start_time": "2022-01-29T09:25:08.764Z"
   },
   {
    "duration": 522,
    "start_time": "2022-01-29T09:25:34.468Z"
   },
   {
    "duration": 23,
    "start_time": "2022-01-29T09:30:11.449Z"
   },
   {
    "duration": 162,
    "start_time": "2022-01-29T09:30:15.061Z"
   },
   {
    "duration": 124,
    "start_time": "2022-01-29T09:30:17.645Z"
   },
   {
    "duration": 977,
    "start_time": "2022-01-29T09:30:53.782Z"
   },
   {
    "duration": 8746,
    "start_time": "2022-01-29T09:31:38.584Z"
   },
   {
    "duration": 63132,
    "start_time": "2022-01-29T09:32:10.717Z"
   },
   {
    "duration": 4087,
    "start_time": "2022-01-29T09:35:07.142Z"
   },
   {
    "duration": 957,
    "start_time": "2022-01-29T09:39:47.753Z"
   },
   {
    "duration": 1304,
    "start_time": "2022-01-29T09:41:52.107Z"
   },
   {
    "duration": 42,
    "start_time": "2022-01-29T09:42:47.338Z"
   },
   {
    "duration": 26,
    "start_time": "2022-01-29T09:43:04.766Z"
   },
   {
    "duration": 415,
    "start_time": "2022-01-29T09:43:15.780Z"
   },
   {
    "duration": 7,
    "start_time": "2022-01-29T09:50:03.829Z"
   },
   {
    "duration": 57,
    "start_time": "2022-01-29T09:50:07.149Z"
   },
   {
    "duration": 22,
    "start_time": "2022-01-29T09:50:10.458Z"
   },
   {
    "duration": 32,
    "start_time": "2022-01-29T09:50:14.454Z"
   },
   {
    "duration": 9,
    "start_time": "2022-01-29T09:50:18.829Z"
   },
   {
    "duration": 30,
    "start_time": "2022-01-29T09:50:23.598Z"
   },
   {
    "duration": 25,
    "start_time": "2022-01-29T09:50:26.414Z"
   },
   {
    "duration": 53,
    "start_time": "2022-01-29T09:50:30.293Z"
   },
   {
    "duration": 15,
    "start_time": "2022-01-29T09:50:34.389Z"
   },
   {
    "duration": 9,
    "start_time": "2022-01-29T09:50:37.102Z"
   },
   {
    "duration": 274,
    "start_time": "2022-01-29T09:50:38.658Z"
   },
   {
    "duration": 264,
    "start_time": "2022-01-29T09:50:41.868Z"
   },
   {
    "duration": 316,
    "start_time": "2022-01-29T09:51:19.932Z"
   },
   {
    "duration": 8209,
    "start_time": "2022-01-29T09:51:26.916Z"
   },
   {
    "duration": 258,
    "start_time": "2022-01-29T09:51:37.499Z"
   },
   {
    "duration": 29,
    "start_time": "2022-01-29T09:51:44.120Z"
   },
   {
    "duration": 10488,
    "start_time": "2022-01-29T09:51:47.639Z"
   },
   {
    "duration": 956,
    "start_time": "2022-01-29T09:52:08.993Z"
   },
   {
    "duration": 897,
    "start_time": "2022-01-29T09:52:21.364Z"
   },
   {
    "duration": 24,
    "start_time": "2022-01-29T09:52:43.978Z"
   },
   {
    "duration": 1283,
    "start_time": "2022-01-31T11:42:00.027Z"
   },
   {
    "duration": 70,
    "start_time": "2022-01-31T11:42:05.412Z"
   },
   {
    "duration": 14,
    "start_time": "2022-01-31T11:43:46.373Z"
   },
   {
    "duration": 24,
    "start_time": "2022-01-31T11:43:51.640Z"
   },
   {
    "duration": 6,
    "start_time": "2022-01-31T11:43:56.166Z"
   },
   {
    "duration": 21,
    "start_time": "2022-01-31T11:43:58.667Z"
   },
   {
    "duration": 11,
    "start_time": "2022-01-31T11:44:01.742Z"
   },
   {
    "duration": 27,
    "start_time": "2022-01-31T11:44:08.973Z"
   },
   {
    "duration": 11,
    "start_time": "2022-01-31T11:44:16.347Z"
   },
   {
    "duration": 6,
    "start_time": "2022-01-31T11:44:17.871Z"
   },
   {
    "duration": 99,
    "start_time": "2022-01-31T11:44:22.672Z"
   },
   {
    "duration": 145,
    "start_time": "2022-01-31T11:44:27.803Z"
   },
   {
    "duration": 347,
    "start_time": "2022-01-31T11:45:06.942Z"
   },
   {
    "duration": 4,
    "start_time": "2022-01-31T11:45:15.411Z"
   },
   {
    "duration": 46,
    "start_time": "2022-01-31T11:45:18.198Z"
   },
   {
    "duration": 13,
    "start_time": "2022-01-31T11:46:40.696Z"
   },
   {
    "duration": 21,
    "start_time": "2022-01-31T11:46:48.057Z"
   },
   {
    "duration": 6,
    "start_time": "2022-01-31T11:46:57.732Z"
   },
   {
    "duration": 22,
    "start_time": "2022-01-31T11:47:06.717Z"
   },
   {
    "duration": 11,
    "start_time": "2022-01-31T11:47:11.406Z"
   },
   {
    "duration": 4,
    "start_time": "2022-01-31T12:00:25.454Z"
   },
   {
    "duration": 48,
    "start_time": "2022-01-31T12:00:27.674Z"
   },
   {
    "duration": 15,
    "start_time": "2022-01-31T12:00:31.214Z"
   },
   {
    "duration": 22,
    "start_time": "2022-01-31T12:00:33.779Z"
   },
   {
    "duration": 5,
    "start_time": "2022-01-31T12:00:37.859Z"
   },
   {
    "duration": 20,
    "start_time": "2022-01-31T12:00:39.104Z"
   },
   {
    "duration": 12,
    "start_time": "2022-01-31T12:00:40.600Z"
   },
   {
    "duration": 29,
    "start_time": "2022-01-31T12:00:45.790Z"
   },
   {
    "duration": 12,
    "start_time": "2022-01-31T12:00:48.221Z"
   },
   {
    "duration": 7,
    "start_time": "2022-01-31T12:00:49.457Z"
   },
   {
    "duration": 161,
    "start_time": "2022-01-31T12:00:51.699Z"
   },
   {
    "duration": 164,
    "start_time": "2022-01-31T12:01:10.353Z"
   },
   {
    "duration": 137,
    "start_time": "2022-01-31T12:01:30.798Z"
   },
   {
    "duration": 4723,
    "start_time": "2022-01-31T12:03:29.637Z"
   },
   {
    "duration": 161,
    "start_time": "2022-01-31T12:03:49.905Z"
   },
   {
    "duration": 15,
    "start_time": "2022-01-31T12:20:56.048Z"
   },
   {
    "duration": 6204,
    "start_time": "2022-01-31T12:22:16.556Z"
   },
   {
    "duration": 343,
    "start_time": "2022-01-31T12:22:48.289Z"
   },
   {
    "duration": 84,
    "start_time": "2022-01-31T12:24:35.842Z"
   },
   {
    "duration": 13,
    "start_time": "2022-01-31T12:24:47.644Z"
   },
   {
    "duration": 139,
    "start_time": "2022-01-31T12:24:52.329Z"
   },
   {
    "duration": 110,
    "start_time": "2022-01-31T12:25:06.335Z"
   },
   {
    "duration": 6237,
    "start_time": "2022-01-31T12:27:29.423Z"
   },
   {
    "duration": 6060,
    "start_time": "2022-01-31T12:28:34.341Z"
   },
   {
    "duration": 293,
    "start_time": "2022-01-31T12:29:23.476Z"
   },
   {
    "duration": 19,
    "start_time": "2022-01-31T12:29:41.097Z"
   },
   {
    "duration": 373,
    "start_time": "2022-01-31T12:32:51.932Z"
   },
   {
    "duration": 284,
    "start_time": "2022-01-31T12:33:11.200Z"
   },
   {
    "duration": 10,
    "start_time": "2022-01-31T13:29:18.832Z"
   },
   {
    "duration": 68,
    "start_time": "2022-01-31T13:29:21.788Z"
   },
   {
    "duration": 16,
    "start_time": "2022-01-31T13:29:24.895Z"
   },
   {
    "duration": 23,
    "start_time": "2022-01-31T13:29:27.886Z"
   },
   {
    "duration": 6,
    "start_time": "2022-01-31T13:29:31.151Z"
   },
   {
    "duration": 20,
    "start_time": "2022-01-31T13:29:32.034Z"
   },
   {
    "duration": 10,
    "start_time": "2022-01-31T13:29:32.934Z"
   },
   {
    "duration": 29,
    "start_time": "2022-01-31T13:29:36.084Z"
   },
   {
    "duration": 15,
    "start_time": "2022-01-31T13:29:38.513Z"
   },
   {
    "duration": 7,
    "start_time": "2022-01-31T13:29:39.503Z"
   },
   {
    "duration": 173,
    "start_time": "2022-01-31T13:29:41.947Z"
   },
   {
    "duration": 74,
    "start_time": "2022-01-31T13:30:53.868Z"
   },
   {
    "duration": 175,
    "start_time": "2022-01-31T13:30:57.288Z"
   },
   {
    "duration": 151,
    "start_time": "2022-01-31T13:31:01.424Z"
   },
   {
    "duration": 4793,
    "start_time": "2022-01-31T13:31:09.726Z"
   },
   {
    "duration": 169,
    "start_time": "2022-01-31T13:31:22.424Z"
   },
   {
    "duration": 23,
    "start_time": "2022-01-31T13:31:26.465Z"
   },
   {
    "duration": 6148,
    "start_time": "2022-01-31T13:31:31.075Z"
   },
   {
    "duration": 5839,
    "start_time": "2022-01-31T13:31:56.889Z"
   },
   {
    "duration": 244,
    "start_time": "2022-01-31T13:32:25.556Z"
   },
   {
    "duration": 261,
    "start_time": "2022-01-31T13:32:32.541Z"
   },
   {
    "duration": 14,
    "start_time": "2022-01-31T13:32:40.200Z"
   },
   {
    "duration": 158,
    "start_time": "2022-01-31T13:32:45.765Z"
   },
   {
    "duration": 117,
    "start_time": "2022-01-31T13:32:52.716Z"
   },
   {
    "duration": 7190,
    "start_time": "2022-01-31T13:33:37.738Z"
   },
   {
    "duration": 289,
    "start_time": "2022-01-31T13:33:55.717Z"
   },
   {
    "duration": 90,
    "start_time": "2022-01-31T13:34:51.146Z"
   },
   {
    "duration": 434,
    "start_time": "2022-01-31T13:34:57.687Z"
   },
   {
    "duration": 26,
    "start_time": "2022-01-31T13:35:08.668Z"
   },
   {
    "duration": 29,
    "start_time": "2022-01-31T13:36:58.241Z"
   },
   {
    "duration": 88,
    "start_time": "2022-01-31T13:38:54.311Z"
   },
   {
    "duration": 173,
    "start_time": "2022-01-31T13:39:00.132Z"
   },
   {
    "duration": 1616,
    "start_time": "2022-10-16T10:46:08.895Z"
   },
   {
    "duration": 77,
    "start_time": "2022-10-16T10:46:13.057Z"
   },
   {
    "duration": 13,
    "start_time": "2022-10-16T10:46:15.240Z"
   },
   {
    "duration": 20,
    "start_time": "2022-10-16T10:46:18.747Z"
   },
   {
    "duration": 5,
    "start_time": "2022-10-16T10:46:22.901Z"
   },
   {
    "duration": 21,
    "start_time": "2022-10-16T10:46:24.034Z"
   },
   {
    "duration": 11,
    "start_time": "2022-10-16T10:46:27.398Z"
   },
   {
    "duration": 25,
    "start_time": "2022-10-16T10:46:36.162Z"
   }
  ],
  "kernelspec": {
   "display_name": "Python 3 (ipykernel)",
   "language": "python",
   "name": "python3"
  },
  "language_info": {
   "codemirror_mode": {
    "name": "ipython",
    "version": 3
   },
   "file_extension": ".py",
   "mimetype": "text/x-python",
   "name": "python",
   "nbconvert_exporter": "python",
   "pygments_lexer": "ipython3",
   "version": "3.9.13"
  },
  "toc": {
   "base_numbering": 1,
   "nav_menu": {},
   "number_sections": true,
   "sideBar": true,
   "skip_h1_title": true,
   "title_cell": "Содержание",
   "title_sidebar": "Contents",
   "toc_cell": true,
   "toc_position": {
    "height": "calc(100% - 180px)",
    "left": "10px",
    "top": "150px",
    "width": "165px"
   },
   "toc_section_display": true,
   "toc_window_display": true
  }
 },
 "nbformat": 4,
 "nbformat_minor": 2
}
